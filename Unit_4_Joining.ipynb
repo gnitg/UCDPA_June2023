{
  "cells": [
    {
      "cell_type": "markdown",
      "metadata": {
        "id": "80jazbqt5_dK"
      },
      "source": [
        "# Joining DataFrames"
      ]
    },
    {
      "cell_type": "markdown",
      "metadata": {
        "id": "PkN8p3JH5_dN"
      },
      "source": [
        "## Join Types"
      ]
    },
    {
      "cell_type": "markdown",
      "metadata": {
        "id": "qmWYJQ905_dO"
      },
      "source": [
        "### Concatenation"
      ]
    },
    {
      "cell_type": "markdown",
      "metadata": {
        "id": "TYzgTCCW5_dO"
      },
      "source": [
        "Concatenation is really just pasting records onto a table. You are just adding records, either horizontally or vertically. In Pandas, we do this with the `concat()` function."
      ]
    },
    {
      "cell_type": "markdown",
      "metadata": {
        "id": "de3cfnB15_dO"
      },
      "source": [
        "#### Appending Rows"
      ]
    },
    {
      "cell_type": "markdown",
      "metadata": {
        "id": "Jmpfu43y5_dP"
      },
      "source": [
        "To add records vertically, to append by row, we use `axis=0`. This is the default setting for `concat()`"
      ]
    },
    {
      "cell_type": "code",
      "execution_count": null,
      "metadata": {
        "id": "L3n1-zan5_dP"
      },
      "outputs": [],
      "source": [
        "import pandas as pd"
      ]
    },
    {
      "cell_type": "code",
      "execution_count": null,
      "metadata": {
        "id": "SWLGih5Z5_dQ"
      },
      "outputs": [],
      "source": [
        "q1  = pd.DataFrame({\"Month\": ['Jan', 'Feb', 'Mar'],\n",
        "                    \"Sales\": [1200, 1000, 1100]})\n",
        "\n",
        "q2  = pd.DataFrame({\"Month\": ['April', 'May', 'Jun'],\n",
        "                    \"Sales\": [1300, 1400, 1350]})"
      ]
    },
    {
      "cell_type": "code",
      "execution_count": null,
      "metadata": {
        "id": "V7OMC1lT5_dR",
        "outputId": "640e1e24-7283-4f46-d9ca-95d845de0909"
      },
      "outputs": [
        {
          "data": {
            "text/html": [
              "<div>\n",
              "<style scoped>\n",
              "    .dataframe tbody tr th:only-of-type {\n",
              "        vertical-align: middle;\n",
              "    }\n",
              "\n",
              "    .dataframe tbody tr th {\n",
              "        vertical-align: top;\n",
              "    }\n",
              "\n",
              "    .dataframe thead th {\n",
              "        text-align: right;\n",
              "    }\n",
              "</style>\n",
              "<table border=\"1\" class=\"dataframe\">\n",
              "  <thead>\n",
              "    <tr style=\"text-align: right;\">\n",
              "      <th></th>\n",
              "      <th>Month</th>\n",
              "      <th>Sales</th>\n",
              "    </tr>\n",
              "  </thead>\n",
              "  <tbody>\n",
              "    <tr>\n",
              "      <th>0</th>\n",
              "      <td>Jan</td>\n",
              "      <td>1200</td>\n",
              "    </tr>\n",
              "    <tr>\n",
              "      <th>1</th>\n",
              "      <td>Feb</td>\n",
              "      <td>1000</td>\n",
              "    </tr>\n",
              "    <tr>\n",
              "      <th>2</th>\n",
              "      <td>Mar</td>\n",
              "      <td>1100</td>\n",
              "    </tr>\n",
              "  </tbody>\n",
              "</table>\n",
              "</div>"
            ],
            "text/plain": [
              "  Month  Sales\n",
              "0   Jan   1200\n",
              "1   Feb   1000\n",
              "2   Mar   1100"
            ]
          },
          "execution_count": 4,
          "metadata": {},
          "output_type": "execute_result"
        }
      ],
      "source": [
        "q1"
      ]
    },
    {
      "cell_type": "code",
      "execution_count": null,
      "metadata": {
        "id": "hELXW8Rz5_dS",
        "outputId": "c52c1e64-897c-40ed-f1d9-56f36675427f"
      },
      "outputs": [
        {
          "data": {
            "text/html": [
              "<div>\n",
              "<style scoped>\n",
              "    .dataframe tbody tr th:only-of-type {\n",
              "        vertical-align: middle;\n",
              "    }\n",
              "\n",
              "    .dataframe tbody tr th {\n",
              "        vertical-align: top;\n",
              "    }\n",
              "\n",
              "    .dataframe thead th {\n",
              "        text-align: right;\n",
              "    }\n",
              "</style>\n",
              "<table border=\"1\" class=\"dataframe\">\n",
              "  <thead>\n",
              "    <tr style=\"text-align: right;\">\n",
              "      <th></th>\n",
              "      <th>Month</th>\n",
              "      <th>Sales</th>\n",
              "    </tr>\n",
              "  </thead>\n",
              "  <tbody>\n",
              "    <tr>\n",
              "      <th>0</th>\n",
              "      <td>April</td>\n",
              "      <td>1300</td>\n",
              "    </tr>\n",
              "    <tr>\n",
              "      <th>1</th>\n",
              "      <td>May</td>\n",
              "      <td>1400</td>\n",
              "    </tr>\n",
              "    <tr>\n",
              "      <th>2</th>\n",
              "      <td>Jun</td>\n",
              "      <td>1350</td>\n",
              "    </tr>\n",
              "  </tbody>\n",
              "</table>\n",
              "</div>"
            ],
            "text/plain": [
              "   Month  Sales\n",
              "0  April   1300\n",
              "1    May   1400\n",
              "2    Jun   1350"
            ]
          },
          "execution_count": 5,
          "metadata": {},
          "output_type": "execute_result"
        }
      ],
      "source": [
        "q2"
      ]
    },
    {
      "cell_type": "code",
      "execution_count": null,
      "metadata": {
        "id": "PZ10vrJV5_dT",
        "outputId": "1bfda9ae-2e27-4e0c-9338-f0bc44a79d67"
      },
      "outputs": [
        {
          "data": {
            "text/html": [
              "<div>\n",
              "<style scoped>\n",
              "    .dataframe tbody tr th:only-of-type {\n",
              "        vertical-align: middle;\n",
              "    }\n",
              "\n",
              "    .dataframe tbody tr th {\n",
              "        vertical-align: top;\n",
              "    }\n",
              "\n",
              "    .dataframe thead th {\n",
              "        text-align: right;\n",
              "    }\n",
              "</style>\n",
              "<table border=\"1\" class=\"dataframe\">\n",
              "  <thead>\n",
              "    <tr style=\"text-align: right;\">\n",
              "      <th></th>\n",
              "      <th>Month</th>\n",
              "      <th>Sales</th>\n",
              "    </tr>\n",
              "  </thead>\n",
              "  <tbody>\n",
              "    <tr>\n",
              "      <th>0</th>\n",
              "      <td>Jan</td>\n",
              "      <td>1200</td>\n",
              "    </tr>\n",
              "    <tr>\n",
              "      <th>1</th>\n",
              "      <td>Feb</td>\n",
              "      <td>1000</td>\n",
              "    </tr>\n",
              "    <tr>\n",
              "      <th>2</th>\n",
              "      <td>Mar</td>\n",
              "      <td>1100</td>\n",
              "    </tr>\n",
              "    <tr>\n",
              "      <th>0</th>\n",
              "      <td>April</td>\n",
              "      <td>1300</td>\n",
              "    </tr>\n",
              "    <tr>\n",
              "      <th>1</th>\n",
              "      <td>May</td>\n",
              "      <td>1400</td>\n",
              "    </tr>\n",
              "    <tr>\n",
              "      <th>2</th>\n",
              "      <td>Jun</td>\n",
              "      <td>1350</td>\n",
              "    </tr>\n",
              "  </tbody>\n",
              "</table>\n",
              "</div>"
            ],
            "text/plain": [
              "   Month  Sales\n",
              "0    Jan   1200\n",
              "1    Feb   1000\n",
              "2    Mar   1100\n",
              "0  April   1300\n",
              "1    May   1400\n",
              "2    Jun   1350"
            ]
          },
          "execution_count": 105,
          "metadata": {},
          "output_type": "execute_result"
        }
      ],
      "source": [
        "pd.concat([q1,q2])"
      ]
    },
    {
      "cell_type": "markdown",
      "metadata": {
        "id": "GHD0yOVw5_dT"
      },
      "source": [
        "By default, the original row labels are preseved. If we want to dump these and reindex the table, we can pass `ignore_index=True`"
      ]
    },
    {
      "cell_type": "code",
      "execution_count": null,
      "metadata": {
        "id": "yH-u5Qqg5_dT",
        "outputId": "c7b78577-d7cc-443f-e479-0a9cddeb97ae"
      },
      "outputs": [
        {
          "data": {
            "text/html": [
              "<div>\n",
              "<style scoped>\n",
              "    .dataframe tbody tr th:only-of-type {\n",
              "        vertical-align: middle;\n",
              "    }\n",
              "\n",
              "    .dataframe tbody tr th {\n",
              "        vertical-align: top;\n",
              "    }\n",
              "\n",
              "    .dataframe thead th {\n",
              "        text-align: right;\n",
              "    }\n",
              "</style>\n",
              "<table border=\"1\" class=\"dataframe\">\n",
              "  <thead>\n",
              "    <tr style=\"text-align: right;\">\n",
              "      <th></th>\n",
              "      <th>Month</th>\n",
              "      <th>Sales</th>\n",
              "    </tr>\n",
              "  </thead>\n",
              "  <tbody>\n",
              "    <tr>\n",
              "      <th>0</th>\n",
              "      <td>Jan</td>\n",
              "      <td>1200</td>\n",
              "    </tr>\n",
              "    <tr>\n",
              "      <th>1</th>\n",
              "      <td>Feb</td>\n",
              "      <td>1000</td>\n",
              "    </tr>\n",
              "    <tr>\n",
              "      <th>2</th>\n",
              "      <td>Mar</td>\n",
              "      <td>1100</td>\n",
              "    </tr>\n",
              "    <tr>\n",
              "      <th>3</th>\n",
              "      <td>April</td>\n",
              "      <td>1300</td>\n",
              "    </tr>\n",
              "    <tr>\n",
              "      <th>4</th>\n",
              "      <td>May</td>\n",
              "      <td>1400</td>\n",
              "    </tr>\n",
              "    <tr>\n",
              "      <th>5</th>\n",
              "      <td>Jun</td>\n",
              "      <td>1350</td>\n",
              "    </tr>\n",
              "  </tbody>\n",
              "</table>\n",
              "</div>"
            ],
            "text/plain": [
              "   Month  Sales\n",
              "0    Jan   1200\n",
              "1    Feb   1000\n",
              "2    Mar   1100\n",
              "3  April   1300\n",
              "4    May   1400\n",
              "5    Jun   1350"
            ]
          },
          "execution_count": 106,
          "metadata": {},
          "output_type": "execute_result"
        }
      ],
      "source": [
        "pd.concat([q1,q2], ignore_index=True)"
      ]
    },
    {
      "cell_type": "markdown",
      "metadata": {
        "id": "vYIQTHWt5_dU"
      },
      "source": [
        "If you want to preserve the keys, and add a key to represent the tables they are coming from, we can pass a list to the`keys` parameter."
      ]
    },
    {
      "cell_type": "code",
      "execution_count": null,
      "metadata": {
        "id": "wFpbiR8H5_dU",
        "outputId": "08151516-5ec8-48d2-c21f-ac4abadf8c03"
      },
      "outputs": [
        {
          "data": {
            "text/html": [
              "<div>\n",
              "<style scoped>\n",
              "    .dataframe tbody tr th:only-of-type {\n",
              "        vertical-align: middle;\n",
              "    }\n",
              "\n",
              "    .dataframe tbody tr th {\n",
              "        vertical-align: top;\n",
              "    }\n",
              "\n",
              "    .dataframe thead th {\n",
              "        text-align: right;\n",
              "    }\n",
              "</style>\n",
              "<table border=\"1\" class=\"dataframe\">\n",
              "  <thead>\n",
              "    <tr style=\"text-align: right;\">\n",
              "      <th></th>\n",
              "      <th></th>\n",
              "      <th>Month</th>\n",
              "      <th>Sales</th>\n",
              "    </tr>\n",
              "  </thead>\n",
              "  <tbody>\n",
              "    <tr>\n",
              "      <th rowspan=\"3\" valign=\"top\">Q1</th>\n",
              "      <th>0</th>\n",
              "      <td>Jan</td>\n",
              "      <td>1200</td>\n",
              "    </tr>\n",
              "    <tr>\n",
              "      <th>1</th>\n",
              "      <td>Feb</td>\n",
              "      <td>1000</td>\n",
              "    </tr>\n",
              "    <tr>\n",
              "      <th>2</th>\n",
              "      <td>Mar</td>\n",
              "      <td>1100</td>\n",
              "    </tr>\n",
              "    <tr>\n",
              "      <th rowspan=\"3\" valign=\"top\">Q2</th>\n",
              "      <th>0</th>\n",
              "      <td>April</td>\n",
              "      <td>1300</td>\n",
              "    </tr>\n",
              "    <tr>\n",
              "      <th>1</th>\n",
              "      <td>May</td>\n",
              "      <td>1400</td>\n",
              "    </tr>\n",
              "    <tr>\n",
              "      <th>2</th>\n",
              "      <td>Jun</td>\n",
              "      <td>1350</td>\n",
              "    </tr>\n",
              "  </tbody>\n",
              "</table>\n",
              "</div>"
            ],
            "text/plain": [
              "      Month  Sales\n",
              "Q1 0    Jan   1200\n",
              "   1    Feb   1000\n",
              "   2    Mar   1100\n",
              "Q2 0  April   1300\n",
              "   1    May   1400\n",
              "   2    Jun   1350"
            ]
          },
          "execution_count": 107,
          "metadata": {},
          "output_type": "execute_result"
        }
      ],
      "source": [
        "pd.concat([q1,q2], keys=['Q1','Q2'])"
      ]
    },
    {
      "cell_type": "markdown",
      "metadata": {
        "id": "1koE9nu85_dU"
      },
      "source": [
        "#### Appending Columns"
      ]
    },
    {
      "cell_type": "markdown",
      "metadata": {
        "id": "uVtdL5R45_dV"
      },
      "source": [
        "It is very straight-forward to perform this on columns, we just change the axis: `axis=1`. Here, records will add up in accordance with the row label."
      ]
    },
    {
      "cell_type": "code",
      "execution_count": null,
      "metadata": {
        "id": "rwIs-Va75_dV",
        "outputId": "adae5904-7196-4da8-9abc-c7f674f553e9"
      },
      "outputs": [
        {
          "data": {
            "text/html": [
              "<div>\n",
              "<style scoped>\n",
              "    .dataframe tbody tr th:only-of-type {\n",
              "        vertical-align: middle;\n",
              "    }\n",
              "\n",
              "    .dataframe tbody tr th {\n",
              "        vertical-align: top;\n",
              "    }\n",
              "\n",
              "    .dataframe thead th {\n",
              "        text-align: right;\n",
              "    }\n",
              "</style>\n",
              "<table border=\"1\" class=\"dataframe\">\n",
              "  <thead>\n",
              "    <tr style=\"text-align: right;\">\n",
              "      <th></th>\n",
              "      <th>country</th>\n",
              "      <th>capital</th>\n",
              "      <th>area</th>\n",
              "      <th>population</th>\n",
              "    </tr>\n",
              "    <tr>\n",
              "      <th>label</th>\n",
              "      <th></th>\n",
              "      <th></th>\n",
              "      <th></th>\n",
              "      <th></th>\n",
              "    </tr>\n",
              "  </thead>\n",
              "  <tbody>\n",
              "    <tr>\n",
              "      <th>BR</th>\n",
              "      <td>Brazil</td>\n",
              "      <td>Brasilia</td>\n",
              "      <td>8.516</td>\n",
              "      <td>200.40</td>\n",
              "    </tr>\n",
              "    <tr>\n",
              "      <th>RU</th>\n",
              "      <td>Russia</td>\n",
              "      <td>Moscow</td>\n",
              "      <td>17.100</td>\n",
              "      <td>143.50</td>\n",
              "    </tr>\n",
              "    <tr>\n",
              "      <th>IN</th>\n",
              "      <td>India</td>\n",
              "      <td>New Dehli</td>\n",
              "      <td>3.286</td>\n",
              "      <td>1252.00</td>\n",
              "    </tr>\n",
              "    <tr>\n",
              "      <th>CH</th>\n",
              "      <td>China</td>\n",
              "      <td>Beijing</td>\n",
              "      <td>9.597</td>\n",
              "      <td>1357.00</td>\n",
              "    </tr>\n",
              "    <tr>\n",
              "      <th>SA</th>\n",
              "      <td>South Africa</td>\n",
              "      <td>Pretoria</td>\n",
              "      <td>1.221</td>\n",
              "      <td>52.98</td>\n",
              "    </tr>\n",
              "  </tbody>\n",
              "</table>\n",
              "</div>"
            ],
            "text/plain": [
              "            country    capital    area  population\n",
              "label                                             \n",
              "BR           Brazil   Brasilia   8.516      200.40\n",
              "RU           Russia     Moscow  17.100      143.50\n",
              "IN            India  New Dehli   3.286     1252.00\n",
              "CH            China    Beijing   9.597     1357.00\n",
              "SA     South Africa   Pretoria   1.221       52.98"
            ]
          },
          "execution_count": 83,
          "metadata": {},
          "output_type": "execute_result"
        }
      ],
      "source": [
        "brics = {'label':      ['BR','RU','IN','CH','SA'],\n",
        "         'country':    ['Brazil', 'Russia', 'India', 'China', 'South Africa'],\n",
        "         'capital':    ['Brasilia', 'Moscow', 'New Dehli', 'Beijing', 'Pretoria'],\n",
        "         'area':       [8.516, 17.10, 3.286, 9.597, 1.221],\n",
        "         'population': [200.4, 143.5, 1252, 1357, 52.98]}\n",
        "\n",
        "brics_df = pd.DataFrame(brics).set_index('label')\n",
        "brics_df"
      ]
    },
    {
      "cell_type": "code",
      "execution_count": null,
      "metadata": {
        "id": "Diag7F_H5_dV",
        "outputId": "88af9c40-5b5b-4005-84b1-4ccb365a36a7"
      },
      "outputs": [
        {
          "data": {
            "text/html": [
              "<div>\n",
              "<style scoped>\n",
              "    .dataframe tbody tr th:only-of-type {\n",
              "        vertical-align: middle;\n",
              "    }\n",
              "\n",
              "    .dataframe tbody tr th {\n",
              "        vertical-align: top;\n",
              "    }\n",
              "\n",
              "    .dataframe thead th {\n",
              "        text-align: right;\n",
              "    }\n",
              "</style>\n",
              "<table border=\"1\" class=\"dataframe\">\n",
              "  <thead>\n",
              "    <tr style=\"text-align: right;\">\n",
              "      <th></th>\n",
              "      <th>GDP</th>\n",
              "    </tr>\n",
              "    <tr>\n",
              "      <th>label</th>\n",
              "      <th></th>\n",
              "    </tr>\n",
              "  </thead>\n",
              "  <tbody>\n",
              "    <tr>\n",
              "      <th>BR</th>\n",
              "      <td>1.84</td>\n",
              "    </tr>\n",
              "    <tr>\n",
              "      <th>RU</th>\n",
              "      <td>1.70</td>\n",
              "    </tr>\n",
              "    <tr>\n",
              "      <th>IN</th>\n",
              "      <td>2.87</td>\n",
              "    </tr>\n",
              "    <tr>\n",
              "      <th>CH</th>\n",
              "      <td>14.34</td>\n",
              "    </tr>\n",
              "    <tr>\n",
              "      <th>SA</th>\n",
              "      <td>0.35</td>\n",
              "    </tr>\n",
              "  </tbody>\n",
              "</table>\n",
              "</div>"
            ],
            "text/plain": [
              "         GDP\n",
              "label       \n",
              "BR      1.84\n",
              "RU      1.70\n",
              "IN      2.87\n",
              "CH     14.34\n",
              "SA      0.35"
            ]
          },
          "execution_count": 84,
          "metadata": {},
          "output_type": "execute_result"
        }
      ],
      "source": [
        "gdp = {'label': ['BR','RU','IN','CH','SA'], 'GDP': [1.84, 1.7, 2.87, 14.34, 0.35]}\n",
        "\n",
        "gdp_df = pd.DataFrame(gdp).set_index('label')\n",
        "gdp_df"
      ]
    },
    {
      "cell_type": "code",
      "execution_count": null,
      "metadata": {
        "id": "RQSH06d-5_dW",
        "outputId": "a8d7f568-8283-4894-fb84-ca59a856f982"
      },
      "outputs": [
        {
          "data": {
            "text/html": [
              "<div>\n",
              "<style scoped>\n",
              "    .dataframe tbody tr th:only-of-type {\n",
              "        vertical-align: middle;\n",
              "    }\n",
              "\n",
              "    .dataframe tbody tr th {\n",
              "        vertical-align: top;\n",
              "    }\n",
              "\n",
              "    .dataframe thead th {\n",
              "        text-align: right;\n",
              "    }\n",
              "</style>\n",
              "<table border=\"1\" class=\"dataframe\">\n",
              "  <thead>\n",
              "    <tr style=\"text-align: right;\">\n",
              "      <th></th>\n",
              "      <th>country</th>\n",
              "      <th>capital</th>\n",
              "      <th>area</th>\n",
              "      <th>population</th>\n",
              "      <th>GDP</th>\n",
              "    </tr>\n",
              "    <tr>\n",
              "      <th>label</th>\n",
              "      <th></th>\n",
              "      <th></th>\n",
              "      <th></th>\n",
              "      <th></th>\n",
              "      <th></th>\n",
              "    </tr>\n",
              "  </thead>\n",
              "  <tbody>\n",
              "    <tr>\n",
              "      <th>BR</th>\n",
              "      <td>Brazil</td>\n",
              "      <td>Brasilia</td>\n",
              "      <td>8.516</td>\n",
              "      <td>200.40</td>\n",
              "      <td>1.84</td>\n",
              "    </tr>\n",
              "    <tr>\n",
              "      <th>RU</th>\n",
              "      <td>Russia</td>\n",
              "      <td>Moscow</td>\n",
              "      <td>17.100</td>\n",
              "      <td>143.50</td>\n",
              "      <td>1.70</td>\n",
              "    </tr>\n",
              "    <tr>\n",
              "      <th>IN</th>\n",
              "      <td>India</td>\n",
              "      <td>New Dehli</td>\n",
              "      <td>3.286</td>\n",
              "      <td>1252.00</td>\n",
              "      <td>2.87</td>\n",
              "    </tr>\n",
              "    <tr>\n",
              "      <th>CH</th>\n",
              "      <td>China</td>\n",
              "      <td>Beijing</td>\n",
              "      <td>9.597</td>\n",
              "      <td>1357.00</td>\n",
              "      <td>14.34</td>\n",
              "    </tr>\n",
              "    <tr>\n",
              "      <th>SA</th>\n",
              "      <td>South Africa</td>\n",
              "      <td>Pretoria</td>\n",
              "      <td>1.221</td>\n",
              "      <td>52.98</td>\n",
              "      <td>0.35</td>\n",
              "    </tr>\n",
              "  </tbody>\n",
              "</table>\n",
              "</div>"
            ],
            "text/plain": [
              "            country    capital    area  population    GDP\n",
              "label                                                    \n",
              "BR           Brazil   Brasilia   8.516      200.40   1.84\n",
              "RU           Russia     Moscow  17.100      143.50   1.70\n",
              "IN            India  New Dehli   3.286     1252.00   2.87\n",
              "CH            China    Beijing   9.597     1357.00  14.34\n",
              "SA     South Africa   Pretoria   1.221       52.98   0.35"
            ]
          },
          "execution_count": 89,
          "metadata": {},
          "output_type": "execute_result"
        }
      ],
      "source": [
        "pd.concat([brics_df, gdp_df], axis=1)"
      ]
    },
    {
      "cell_type": "markdown",
      "metadata": {
        "id": "o014M9kJ5_dW"
      },
      "source": [
        "### Merging"
      ]
    },
    {
      "cell_type": "markdown",
      "metadata": {
        "id": "6gMo19EC5_dW"
      },
      "source": [
        "Here I will define two new DataFrames: one for all my staff and the cities they work in; and one mapping the cities to countries."
      ]
    },
    {
      "cell_type": "code",
      "execution_count": null,
      "metadata": {
        "id": "0SHXYjYV5_dX",
        "outputId": "0d1f8f27-aaa0-4b1e-ebf8-3b7695cb1831"
      },
      "outputs": [
        {
          "data": {
            "text/html": [
              "<div>\n",
              "<style scoped>\n",
              "    .dataframe tbody tr th:only-of-type {\n",
              "        vertical-align: middle;\n",
              "    }\n",
              "\n",
              "    .dataframe tbody tr th {\n",
              "        vertical-align: top;\n",
              "    }\n",
              "\n",
              "    .dataframe thead th {\n",
              "        text-align: right;\n",
              "    }\n",
              "</style>\n",
              "<table border=\"1\" class=\"dataframe\">\n",
              "  <thead>\n",
              "    <tr style=\"text-align: right;\">\n",
              "      <th></th>\n",
              "      <th>Staff</th>\n",
              "      <th>City</th>\n",
              "    </tr>\n",
              "  </thead>\n",
              "  <tbody>\n",
              "    <tr>\n",
              "      <th>0</th>\n",
              "      <td>Mary</td>\n",
              "      <td>Dublin</td>\n",
              "    </tr>\n",
              "    <tr>\n",
              "      <th>1</th>\n",
              "      <td>John</td>\n",
              "      <td>Berlin</td>\n",
              "    </tr>\n",
              "    <tr>\n",
              "      <th>2</th>\n",
              "      <td>Jack</td>\n",
              "      <td>Warsaw</td>\n",
              "    </tr>\n",
              "    <tr>\n",
              "      <th>3</th>\n",
              "      <td>Sally</td>\n",
              "      <td>Paris</td>\n",
              "    </tr>\n",
              "    <tr>\n",
              "      <th>4</th>\n",
              "      <td>Mark</td>\n",
              "      <td>Dublin</td>\n",
              "    </tr>\n",
              "    <tr>\n",
              "      <th>5</th>\n",
              "      <td>Jane</td>\n",
              "      <td>Lisbon</td>\n",
              "    </tr>\n",
              "  </tbody>\n",
              "</table>\n",
              "</div>"
            ],
            "text/plain": [
              "   Staff    City\n",
              "0   Mary  Dublin\n",
              "1   John  Berlin\n",
              "2   Jack  Warsaw\n",
              "3  Sally   Paris\n",
              "4   Mark  Dublin\n",
              "5   Jane  Lisbon"
            ]
          },
          "execution_count": 126,
          "metadata": {},
          "output_type": "execute_result"
        }
      ],
      "source": [
        "staff  = pd.DataFrame({\"Staff\": ['Mary', 'John', 'Jack', 'Sally','Mark', 'Jane'],\n",
        "                    \"City\": ['Dublin', 'Berlin', 'Warsaw', 'Paris','Dublin', 'Lisbon']})\n",
        "staff"
      ]
    },
    {
      "cell_type": "code",
      "execution_count": null,
      "metadata": {
        "id": "pXnv33Vk5_dX",
        "outputId": "3fa7cc57-9d37-4aa7-c523-85d50f819b19"
      },
      "outputs": [
        {
          "data": {
            "text/html": [
              "<div>\n",
              "<style scoped>\n",
              "    .dataframe tbody tr th:only-of-type {\n",
              "        vertical-align: middle;\n",
              "    }\n",
              "\n",
              "    .dataframe tbody tr th {\n",
              "        vertical-align: top;\n",
              "    }\n",
              "\n",
              "    .dataframe thead th {\n",
              "        text-align: right;\n",
              "    }\n",
              "</style>\n",
              "<table border=\"1\" class=\"dataframe\">\n",
              "  <thead>\n",
              "    <tr style=\"text-align: right;\">\n",
              "      <th></th>\n",
              "      <th>City</th>\n",
              "      <th>Avg Salary</th>\n",
              "    </tr>\n",
              "  </thead>\n",
              "  <tbody>\n",
              "    <tr>\n",
              "      <th>0</th>\n",
              "      <td>Paris</td>\n",
              "      <td>58000</td>\n",
              "    </tr>\n",
              "    <tr>\n",
              "      <th>1</th>\n",
              "      <td>Warsaw</td>\n",
              "      <td>45000</td>\n",
              "    </tr>\n",
              "    <tr>\n",
              "      <th>2</th>\n",
              "      <td>Berlin</td>\n",
              "      <td>55000</td>\n",
              "    </tr>\n",
              "    <tr>\n",
              "      <th>3</th>\n",
              "      <td>Dublin</td>\n",
              "      <td>60000</td>\n",
              "    </tr>\n",
              "    <tr>\n",
              "      <th>4</th>\n",
              "      <td>London</td>\n",
              "      <td>62000</td>\n",
              "    </tr>\n",
              "  </tbody>\n",
              "</table>\n",
              "</div>"
            ],
            "text/plain": [
              "     City  Avg Salary\n",
              "0   Paris       58000\n",
              "1  Warsaw       45000\n",
              "2  Berlin       55000\n",
              "3  Dublin       60000\n",
              "4  London       62000"
            ]
          },
          "execution_count": 139,
          "metadata": {},
          "output_type": "execute_result"
        }
      ],
      "source": [
        "salaries = pd.DataFrame({'City': ['Paris','Warsaw','Berlin','Dublin', 'London'],\n",
        "                        'Avg Salary':[58000, 45000, 55000, 60000, 62000]})\n",
        "salaries"
      ]
    },
    {
      "cell_type": "markdown",
      "metadata": {
        "id": "LtpGDe5r5_dY"
      },
      "source": [
        "In this example, our key is going to be `City`. That means, both DataFrames are going to be joined where their values for `City` are matching. In this example, it is fine for my `Staff` table to have the same value for `City` multiple times; however, it must be unique in my `Country` table. That means that my `Country` table is my primary table and `City` here is my primary key. Consequently, my `Staff` table is my foreign or child table and the `City` column in that is my foreign key."
      ]
    },
    {
      "cell_type": "markdown",
      "metadata": {
        "id": "VjSRpoSr5_dY"
      },
      "source": [
        "#### Inner Join"
      ]
    },
    {
      "cell_type": "markdown",
      "metadata": {
        "id": "WRtdo_jA5_dY"
      },
      "source": [
        "For an inner join, only matching records will be returned. You can specify this with `how='inner'`, but it is the default join type, so we can leave it out."
      ]
    },
    {
      "cell_type": "code",
      "execution_count": null,
      "metadata": {
        "id": "td3cv53_5_dY",
        "outputId": "dbe6269c-f45b-4a9d-90d7-e8859386ce3c"
      },
      "outputs": [
        {
          "data": {
            "text/html": [
              "<div>\n",
              "<style scoped>\n",
              "    .dataframe tbody tr th:only-of-type {\n",
              "        vertical-align: middle;\n",
              "    }\n",
              "\n",
              "    .dataframe tbody tr th {\n",
              "        vertical-align: top;\n",
              "    }\n",
              "\n",
              "    .dataframe thead th {\n",
              "        text-align: right;\n",
              "    }\n",
              "</style>\n",
              "<table border=\"1\" class=\"dataframe\">\n",
              "  <thead>\n",
              "    <tr style=\"text-align: right;\">\n",
              "      <th></th>\n",
              "      <th>Staff</th>\n",
              "      <th>City</th>\n",
              "      <th>Country</th>\n",
              "      <th>Avg Salary</th>\n",
              "    </tr>\n",
              "  </thead>\n",
              "  <tbody>\n",
              "    <tr>\n",
              "      <th>0</th>\n",
              "      <td>Mary</td>\n",
              "      <td>Dublin</td>\n",
              "      <td>Ireland</td>\n",
              "      <td>60000</td>\n",
              "    </tr>\n",
              "    <tr>\n",
              "      <th>1</th>\n",
              "      <td>John</td>\n",
              "      <td>Berlin</td>\n",
              "      <td>Germany</td>\n",
              "      <td>55000</td>\n",
              "    </tr>\n",
              "    <tr>\n",
              "      <th>2</th>\n",
              "      <td>Jack</td>\n",
              "      <td>Warsaw</td>\n",
              "      <td>Poland</td>\n",
              "      <td>45000</td>\n",
              "    </tr>\n",
              "    <tr>\n",
              "      <th>3</th>\n",
              "      <td>Sally</td>\n",
              "      <td>Paris</td>\n",
              "      <td>France</td>\n",
              "      <td>58000</td>\n",
              "    </tr>\n",
              "    <tr>\n",
              "      <th>4</th>\n",
              "      <td>Mark</td>\n",
              "      <td>Dublin</td>\n",
              "      <td>US</td>\n",
              "      <td>51000</td>\n",
              "    </tr>\n",
              "  </tbody>\n",
              "</table>\n",
              "</div>"
            ],
            "text/plain": [
              "   Staff    City  Country  Avg Salary\n",
              "0   Mary  Dublin  Ireland       60000\n",
              "1   John  Berlin  Germany       55000\n",
              "2   Jack  Warsaw   Poland       45000\n",
              "3  Sally   Paris   France       58000\n",
              "4   Mark  Dublin       US       51000"
            ]
          },
          "execution_count": 110,
          "metadata": {},
          "output_type": "execute_result"
        }
      ],
      "source": [
        "staff.merge(salaries)"
      ]
    },
    {
      "cell_type": "markdown",
      "metadata": {
        "id": "gRjlsjEj5_dZ"
      },
      "source": [
        "Notice we have no record for Jane (staff) or for the UK (country), as these failed to find a matching record in the `City` column."
      ]
    },
    {
      "cell_type": "markdown",
      "metadata": {
        "id": "c6n3yqam5_dZ"
      },
      "source": [
        "##### Specifying the Columns"
      ]
    },
    {
      "cell_type": "markdown",
      "metadata": {
        "id": "nCqssZNi5_dZ"
      },
      "source": [
        "It has recognised the common column in both, `City`, and used this as a key for the join. If there wasn't a common column in both, we would have to specify which column to join on. In this example, one of the columns is renamed to `Cities`."
      ]
    },
    {
      "cell_type": "code",
      "execution_count": null,
      "metadata": {
        "id": "1AZ8zWri5_da",
        "outputId": "d1673f01-dd6e-4ca8-cc79-b87966aebd03"
      },
      "outputs": [
        {
          "data": {
            "text/html": [
              "<div>\n",
              "<style scoped>\n",
              "    .dataframe tbody tr th:only-of-type {\n",
              "        vertical-align: middle;\n",
              "    }\n",
              "\n",
              "    .dataframe tbody tr th {\n",
              "        vertical-align: top;\n",
              "    }\n",
              "\n",
              "    .dataframe thead th {\n",
              "        text-align: right;\n",
              "    }\n",
              "</style>\n",
              "<table border=\"1\" class=\"dataframe\">\n",
              "  <thead>\n",
              "    <tr style=\"text-align: right;\">\n",
              "      <th></th>\n",
              "      <th>Cities</th>\n",
              "      <th>Avg Salary</th>\n",
              "    </tr>\n",
              "  </thead>\n",
              "  <tbody>\n",
              "    <tr>\n",
              "      <th>0</th>\n",
              "      <td>Paris</td>\n",
              "      <td>58000</td>\n",
              "    </tr>\n",
              "    <tr>\n",
              "      <th>1</th>\n",
              "      <td>Warsaw</td>\n",
              "      <td>45000</td>\n",
              "    </tr>\n",
              "    <tr>\n",
              "      <th>2</th>\n",
              "      <td>Berlin</td>\n",
              "      <td>55000</td>\n",
              "    </tr>\n",
              "    <tr>\n",
              "      <th>3</th>\n",
              "      <td>Dublin</td>\n",
              "      <td>60000</td>\n",
              "    </tr>\n",
              "    <tr>\n",
              "      <th>4</th>\n",
              "      <td>London</td>\n",
              "      <td>62000</td>\n",
              "    </tr>\n",
              "  </tbody>\n",
              "</table>\n",
              "</div>"
            ],
            "text/plain": [
              "   Cities  Avg Salary\n",
              "0   Paris       58000\n",
              "1  Warsaw       45000\n",
              "2  Berlin       55000\n",
              "3  Dublin       60000\n",
              "4  London       62000"
            ]
          },
          "execution_count": 114,
          "metadata": {},
          "output_type": "execute_result"
        }
      ],
      "source": [
        "salaries = pd.DataFrame({'Cities': ['Paris','Warsaw','Berlin','Dublin', 'London'],\n",
        "                        'Avg Salary':[58000, 45000, 55000, 60000, 62000]})\n",
        "salaries"
      ]
    },
    {
      "cell_type": "markdown",
      "metadata": {
        "id": "wUqD7qat5_dd"
      },
      "source": [
        "Here we must specify the column in both the left and right table to join on, using the `left_on` and `right_on` parameters. Remember, left is the first table and right is the second."
      ]
    },
    {
      "cell_type": "code",
      "execution_count": null,
      "metadata": {
        "id": "XImuhj5w5_de",
        "outputId": "63eddab2-55af-4190-9fc2-3ca6895ffc20"
      },
      "outputs": [
        {
          "data": {
            "text/html": [
              "<div>\n",
              "<style scoped>\n",
              "    .dataframe tbody tr th:only-of-type {\n",
              "        vertical-align: middle;\n",
              "    }\n",
              "\n",
              "    .dataframe tbody tr th {\n",
              "        vertical-align: top;\n",
              "    }\n",
              "\n",
              "    .dataframe thead th {\n",
              "        text-align: right;\n",
              "    }\n",
              "</style>\n",
              "<table border=\"1\" class=\"dataframe\">\n",
              "  <thead>\n",
              "    <tr style=\"text-align: right;\">\n",
              "      <th></th>\n",
              "      <th>Staff</th>\n",
              "      <th>City</th>\n",
              "      <th>Country</th>\n",
              "      <th>Cities</th>\n",
              "      <th>Avg Salary</th>\n",
              "    </tr>\n",
              "  </thead>\n",
              "  <tbody>\n",
              "    <tr>\n",
              "      <th>0</th>\n",
              "      <td>Mary</td>\n",
              "      <td>Dublin</td>\n",
              "      <td>Ireland</td>\n",
              "      <td>Dublin</td>\n",
              "      <td>60000</td>\n",
              "    </tr>\n",
              "    <tr>\n",
              "      <th>1</th>\n",
              "      <td>Mark</td>\n",
              "      <td>Dublin</td>\n",
              "      <td>US</td>\n",
              "      <td>Dublin</td>\n",
              "      <td>60000</td>\n",
              "    </tr>\n",
              "    <tr>\n",
              "      <th>2</th>\n",
              "      <td>John</td>\n",
              "      <td>Berlin</td>\n",
              "      <td>Germany</td>\n",
              "      <td>Berlin</td>\n",
              "      <td>55000</td>\n",
              "    </tr>\n",
              "    <tr>\n",
              "      <th>3</th>\n",
              "      <td>Jack</td>\n",
              "      <td>Warsaw</td>\n",
              "      <td>Poland</td>\n",
              "      <td>Warsaw</td>\n",
              "      <td>45000</td>\n",
              "    </tr>\n",
              "    <tr>\n",
              "      <th>4</th>\n",
              "      <td>Sally</td>\n",
              "      <td>Paris</td>\n",
              "      <td>France</td>\n",
              "      <td>Paris</td>\n",
              "      <td>58000</td>\n",
              "    </tr>\n",
              "  </tbody>\n",
              "</table>\n",
              "</div>"
            ],
            "text/plain": [
              "   Staff    City  Country  Cities  Avg Salary\n",
              "0   Mary  Dublin  Ireland  Dublin       60000\n",
              "1   Mark  Dublin       US  Dublin       60000\n",
              "2   John  Berlin  Germany  Berlin       55000\n",
              "3   Jack  Warsaw   Poland  Warsaw       45000\n",
              "4  Sally   Paris   France   Paris       58000"
            ]
          },
          "execution_count": 115,
          "metadata": {},
          "output_type": "execute_result"
        }
      ],
      "source": [
        "staff.merge(salaries, left_on='City', right_on='Cities')"
      ]
    },
    {
      "cell_type": "markdown",
      "metadata": {
        "id": "nR-Ofmsa5_df"
      },
      "source": [
        "#### Outer Join"
      ]
    },
    {
      "cell_type": "markdown",
      "metadata": {
        "id": "mUST09LW5_df"
      },
      "source": [
        "An outer join, will return all records in both tables, regardless of whether a match was found or not. We specify this by setting `how='outer'`. (I will reset my Staff table from `Cities` to `City`)"
      ]
    },
    {
      "cell_type": "code",
      "execution_count": null,
      "metadata": {
        "id": "pOhYYE1c5_df"
      },
      "outputs": [],
      "source": [
        "salaries = pd.DataFrame({'City': ['Paris','Warsaw','Berlin','Dublin', 'London'],\n",
        "                        'Avg Salary':[58000, 45000, 55000, 60000, 62000]})"
      ]
    },
    {
      "cell_type": "code",
      "execution_count": null,
      "metadata": {
        "id": "bWP3ozLn5_df",
        "outputId": "3cb737e0-7ed1-400c-dfac-47fb8f51ad6b"
      },
      "outputs": [
        {
          "data": {
            "text/html": [
              "<div>\n",
              "<style scoped>\n",
              "    .dataframe tbody tr th:only-of-type {\n",
              "        vertical-align: middle;\n",
              "    }\n",
              "\n",
              "    .dataframe tbody tr th {\n",
              "        vertical-align: top;\n",
              "    }\n",
              "\n",
              "    .dataframe thead th {\n",
              "        text-align: right;\n",
              "    }\n",
              "</style>\n",
              "<table border=\"1\" class=\"dataframe\">\n",
              "  <thead>\n",
              "    <tr style=\"text-align: right;\">\n",
              "      <th></th>\n",
              "      <th>Staff</th>\n",
              "      <th>City</th>\n",
              "      <th>Country</th>\n",
              "      <th>Avg Salary</th>\n",
              "    </tr>\n",
              "  </thead>\n",
              "  <tbody>\n",
              "    <tr>\n",
              "      <th>0</th>\n",
              "      <td>Mary</td>\n",
              "      <td>Dublin</td>\n",
              "      <td>Ireland</td>\n",
              "      <td>60000.0</td>\n",
              "    </tr>\n",
              "    <tr>\n",
              "      <th>1</th>\n",
              "      <td>Mark</td>\n",
              "      <td>Dublin</td>\n",
              "      <td>US</td>\n",
              "      <td>60000.0</td>\n",
              "    </tr>\n",
              "    <tr>\n",
              "      <th>2</th>\n",
              "      <td>John</td>\n",
              "      <td>Berlin</td>\n",
              "      <td>Germany</td>\n",
              "      <td>55000.0</td>\n",
              "    </tr>\n",
              "    <tr>\n",
              "      <th>3</th>\n",
              "      <td>Jack</td>\n",
              "      <td>Warsaw</td>\n",
              "      <td>Poland</td>\n",
              "      <td>45000.0</td>\n",
              "    </tr>\n",
              "    <tr>\n",
              "      <th>4</th>\n",
              "      <td>Sally</td>\n",
              "      <td>Paris</td>\n",
              "      <td>France</td>\n",
              "      <td>58000.0</td>\n",
              "    </tr>\n",
              "    <tr>\n",
              "      <th>5</th>\n",
              "      <td>Jane</td>\n",
              "      <td>Lisbon</td>\n",
              "      <td>Portugal</td>\n",
              "      <td>NaN</td>\n",
              "    </tr>\n",
              "    <tr>\n",
              "      <th>6</th>\n",
              "      <td>NaN</td>\n",
              "      <td>London</td>\n",
              "      <td>NaN</td>\n",
              "      <td>62000.0</td>\n",
              "    </tr>\n",
              "  </tbody>\n",
              "</table>\n",
              "</div>"
            ],
            "text/plain": [
              "   Staff    City   Country  Avg Salary\n",
              "0   Mary  Dublin   Ireland     60000.0\n",
              "1   Mark  Dublin        US     60000.0\n",
              "2   John  Berlin   Germany     55000.0\n",
              "3   Jack  Warsaw    Poland     45000.0\n",
              "4  Sally   Paris    France     58000.0\n",
              "5   Jane  Lisbon  Portugal         NaN\n",
              "6    NaN  London       NaN     62000.0"
            ]
          },
          "execution_count": 119,
          "metadata": {},
          "output_type": "execute_result"
        }
      ],
      "source": [
        "staff.merge(salaries, how='outer')"
      ]
    },
    {
      "cell_type": "markdown",
      "metadata": {
        "id": "JHNMA_Ug5_dg"
      },
      "source": [
        "We now have returned every record from both tables, regardless of whether it made a match. Notice Jane is in the merged table, but has no value for Country; while UK is included but has no staff associated with it."
      ]
    },
    {
      "cell_type": "markdown",
      "metadata": {
        "id": "KtdMMysv5_dk"
      },
      "source": [
        "#### Left or Right Join"
      ]
    },
    {
      "cell_type": "markdown",
      "metadata": {
        "id": "1WlguGZ05_dk"
      },
      "source": [
        "If you would like to return all the records for a particular table only, you can specify which table. This is done using the descriptors `left` and `right`. Convention is to label the first table as left and the second one as right."
      ]
    },
    {
      "cell_type": "markdown",
      "metadata": {
        "id": "T5PQRSxg5_dl"
      },
      "source": [
        "In our example, it is important to us that we want to return a record for all our staff. We are not interested in returning every record from our `salaries` table. So, in this case, a left join would be perfect."
      ]
    },
    {
      "cell_type": "code",
      "execution_count": null,
      "metadata": {
        "id": "JlGcy7Cp5_dl",
        "outputId": "e6091a2c-0abb-4654-aed6-eb8eceb614d3"
      },
      "outputs": [
        {
          "data": {
            "text/html": [
              "<div>\n",
              "<style scoped>\n",
              "    .dataframe tbody tr th:only-of-type {\n",
              "        vertical-align: middle;\n",
              "    }\n",
              "\n",
              "    .dataframe tbody tr th {\n",
              "        vertical-align: top;\n",
              "    }\n",
              "\n",
              "    .dataframe thead th {\n",
              "        text-align: right;\n",
              "    }\n",
              "</style>\n",
              "<table border=\"1\" class=\"dataframe\">\n",
              "  <thead>\n",
              "    <tr style=\"text-align: right;\">\n",
              "      <th></th>\n",
              "      <th>Staff</th>\n",
              "      <th>City</th>\n",
              "      <th>Country</th>\n",
              "      <th>Avg Salary</th>\n",
              "    </tr>\n",
              "  </thead>\n",
              "  <tbody>\n",
              "    <tr>\n",
              "      <th>0</th>\n",
              "      <td>Mary</td>\n",
              "      <td>Dublin</td>\n",
              "      <td>Ireland</td>\n",
              "      <td>60000.0</td>\n",
              "    </tr>\n",
              "    <tr>\n",
              "      <th>1</th>\n",
              "      <td>John</td>\n",
              "      <td>Berlin</td>\n",
              "      <td>Germany</td>\n",
              "      <td>55000.0</td>\n",
              "    </tr>\n",
              "    <tr>\n",
              "      <th>2</th>\n",
              "      <td>Jack</td>\n",
              "      <td>Warsaw</td>\n",
              "      <td>Poland</td>\n",
              "      <td>45000.0</td>\n",
              "    </tr>\n",
              "    <tr>\n",
              "      <th>3</th>\n",
              "      <td>Sally</td>\n",
              "      <td>Paris</td>\n",
              "      <td>France</td>\n",
              "      <td>58000.0</td>\n",
              "    </tr>\n",
              "    <tr>\n",
              "      <th>4</th>\n",
              "      <td>Mark</td>\n",
              "      <td>Dublin</td>\n",
              "      <td>US</td>\n",
              "      <td>60000.0</td>\n",
              "    </tr>\n",
              "    <tr>\n",
              "      <th>5</th>\n",
              "      <td>Jane</td>\n",
              "      <td>Lisbon</td>\n",
              "      <td>Portugal</td>\n",
              "      <td>NaN</td>\n",
              "    </tr>\n",
              "  </tbody>\n",
              "</table>\n",
              "</div>"
            ],
            "text/plain": [
              "   Staff    City   Country  Avg Salary\n",
              "0   Mary  Dublin   Ireland     60000.0\n",
              "1   John  Berlin   Germany     55000.0\n",
              "2   Jack  Warsaw    Poland     45000.0\n",
              "3  Sally   Paris    France     58000.0\n",
              "4   Mark  Dublin        US     60000.0\n",
              "5   Jane  Lisbon  Portugal         NaN"
            ]
          },
          "execution_count": 120,
          "metadata": {},
          "output_type": "execute_result"
        }
      ],
      "source": [
        "staff.merge(salaries, how='left')"
      ]
    },
    {
      "cell_type": "markdown",
      "metadata": {
        "id": "_M6DE11q5_dl"
      },
      "source": [
        "After doing a `left`,`right` or `outer` join, it is often a good idea to filter for `Nulls`. This will help you know what you are missing in your merger. Here we are filtering our DataFrame where `Avg Salary` is `Null`"
      ]
    },
    {
      "cell_type": "code",
      "execution_count": null,
      "metadata": {
        "id": "52fzBP4W5_dm",
        "outputId": "2f538731-19ec-46b3-e69e-bd0206ef9f92"
      },
      "outputs": [
        {
          "data": {
            "text/html": [
              "<div>\n",
              "<style scoped>\n",
              "    .dataframe tbody tr th:only-of-type {\n",
              "        vertical-align: middle;\n",
              "    }\n",
              "\n",
              "    .dataframe tbody tr th {\n",
              "        vertical-align: top;\n",
              "    }\n",
              "\n",
              "    .dataframe thead th {\n",
              "        text-align: right;\n",
              "    }\n",
              "</style>\n",
              "<table border=\"1\" class=\"dataframe\">\n",
              "  <thead>\n",
              "    <tr style=\"text-align: right;\">\n",
              "      <th></th>\n",
              "      <th>Staff</th>\n",
              "      <th>City</th>\n",
              "      <th>Country</th>\n",
              "      <th>Avg Salary</th>\n",
              "    </tr>\n",
              "  </thead>\n",
              "  <tbody>\n",
              "    <tr>\n",
              "      <th>5</th>\n",
              "      <td>Jane</td>\n",
              "      <td>Lisbon</td>\n",
              "      <td>Portugal</td>\n",
              "      <td>NaN</td>\n",
              "    </tr>\n",
              "  </tbody>\n",
              "</table>\n",
              "</div>"
            ],
            "text/plain": [
              "  Staff    City   Country  Avg Salary\n",
              "5  Jane  Lisbon  Portugal         NaN"
            ]
          },
          "execution_count": 123,
          "metadata": {},
          "output_type": "execute_result"
        }
      ],
      "source": [
        "staff_df = staff.merge(salaries, how='left')\n",
        "\n",
        "staff_df[staff_df['Avg Salary'].isnull()]"
      ]
    },
    {
      "cell_type": "markdown",
      "metadata": {
        "id": "qSc3naI-5_dm"
      },
      "source": [
        "### Handling Duplicates"
      ]
    },
    {
      "cell_type": "markdown",
      "metadata": {
        "id": "YuRii0Zx5_dm"
      },
      "source": [
        "Earlier, I said that my primary table, `Salaries`, must have unique values for `City`. What I was in effect doing here was declaring that as my primary key. But what if I hadn't insisted on that? What if had both `Staff` and `Salaries` had non-unique values for `City`? We would create duplicates."
      ]
    },
    {
      "cell_type": "code",
      "execution_count": null,
      "metadata": {
        "id": "oh420z6c5_dn",
        "outputId": "4b425df2-4dd0-4d22-9f84-ab8436aca2a0"
      },
      "outputs": [
        {
          "data": {
            "text/html": [
              "<div>\n",
              "<style scoped>\n",
              "    .dataframe tbody tr th:only-of-type {\n",
              "        vertical-align: middle;\n",
              "    }\n",
              "\n",
              "    .dataframe tbody tr th {\n",
              "        vertical-align: top;\n",
              "    }\n",
              "\n",
              "    .dataframe thead th {\n",
              "        text-align: right;\n",
              "    }\n",
              "</style>\n",
              "<table border=\"1\" class=\"dataframe\">\n",
              "  <thead>\n",
              "    <tr style=\"text-align: right;\">\n",
              "      <th></th>\n",
              "      <th>City</th>\n",
              "      <th>Avg Salary</th>\n",
              "    </tr>\n",
              "  </thead>\n",
              "  <tbody>\n",
              "    <tr>\n",
              "      <th>0</th>\n",
              "      <td>Paris</td>\n",
              "      <td>58000</td>\n",
              "    </tr>\n",
              "    <tr>\n",
              "      <th>1</th>\n",
              "      <td>Warsaw</td>\n",
              "      <td>45000</td>\n",
              "    </tr>\n",
              "    <tr>\n",
              "      <th>2</th>\n",
              "      <td>Berlin</td>\n",
              "      <td>55000</td>\n",
              "    </tr>\n",
              "    <tr>\n",
              "      <th>3</th>\n",
              "      <td>Dublin</td>\n",
              "      <td>60000</td>\n",
              "    </tr>\n",
              "    <tr>\n",
              "      <th>4</th>\n",
              "      <td>London</td>\n",
              "      <td>62000</td>\n",
              "    </tr>\n",
              "    <tr>\n",
              "      <th>5</th>\n",
              "      <td>Paris</td>\n",
              "      <td>63000</td>\n",
              "    </tr>\n",
              "  </tbody>\n",
              "</table>\n",
              "</div>"
            ],
            "text/plain": [
              "     City  Avg Salary\n",
              "0   Paris       58000\n",
              "1  Warsaw       45000\n",
              "2  Berlin       55000\n",
              "3  Dublin       60000\n",
              "4  London       62000\n",
              "5   Paris       63000"
            ]
          },
          "execution_count": 145,
          "metadata": {},
          "output_type": "execute_result"
        }
      ],
      "source": [
        "salaries = pd.DataFrame({'City': ['Paris','Warsaw','Berlin','Dublin', 'London', 'Paris'],\n",
        "                        'Avg Salary':[58000, 45000, 55000, 60000, 62000, 63000]})\n",
        "salaries"
      ]
    },
    {
      "cell_type": "code",
      "execution_count": null,
      "metadata": {
        "id": "vmQAbuzs5_dn",
        "outputId": "74695f7f-9d1d-43f8-b935-7479d9c7e2a4"
      },
      "outputs": [
        {
          "data": {
            "text/html": [
              "<div>\n",
              "<style scoped>\n",
              "    .dataframe tbody tr th:only-of-type {\n",
              "        vertical-align: middle;\n",
              "    }\n",
              "\n",
              "    .dataframe tbody tr th {\n",
              "        vertical-align: top;\n",
              "    }\n",
              "\n",
              "    .dataframe thead th {\n",
              "        text-align: right;\n",
              "    }\n",
              "</style>\n",
              "<table border=\"1\" class=\"dataframe\">\n",
              "  <thead>\n",
              "    <tr style=\"text-align: right;\">\n",
              "      <th></th>\n",
              "      <th>Staff</th>\n",
              "      <th>City</th>\n",
              "      <th>Avg Salary</th>\n",
              "    </tr>\n",
              "  </thead>\n",
              "  <tbody>\n",
              "    <tr>\n",
              "      <th>0</th>\n",
              "      <td>Mary</td>\n",
              "      <td>Dublin</td>\n",
              "      <td>60000</td>\n",
              "    </tr>\n",
              "    <tr>\n",
              "      <th>1</th>\n",
              "      <td>Mark</td>\n",
              "      <td>Dublin</td>\n",
              "      <td>60000</td>\n",
              "    </tr>\n",
              "    <tr>\n",
              "      <th>2</th>\n",
              "      <td>John</td>\n",
              "      <td>Berlin</td>\n",
              "      <td>55000</td>\n",
              "    </tr>\n",
              "    <tr>\n",
              "      <th>3</th>\n",
              "      <td>Jack</td>\n",
              "      <td>Warsaw</td>\n",
              "      <td>45000</td>\n",
              "    </tr>\n",
              "    <tr>\n",
              "      <th>4</th>\n",
              "      <td>Sally</td>\n",
              "      <td>Paris</td>\n",
              "      <td>58000</td>\n",
              "    </tr>\n",
              "    <tr>\n",
              "      <th>5</th>\n",
              "      <td>Sally</td>\n",
              "      <td>Paris</td>\n",
              "      <td>63000</td>\n",
              "    </tr>\n",
              "  </tbody>\n",
              "</table>\n",
              "</div>"
            ],
            "text/plain": [
              "   Staff    City  Avg Salary\n",
              "0   Mary  Dublin       60000\n",
              "1   Mark  Dublin       60000\n",
              "2   John  Berlin       55000\n",
              "3   Jack  Warsaw       45000\n",
              "4  Sally   Paris       58000\n",
              "5  Sally   Paris       63000"
            ]
          },
          "execution_count": 147,
          "metadata": {},
          "output_type": "execute_result"
        }
      ],
      "source": [
        "staff.merge(salaries)"
      ]
    },
    {
      "cell_type": "markdown",
      "metadata": {
        "id": "BQY7zbns5_dn"
      },
      "source": [
        "Here, we can see that the record for `Sally` has been duplicated. Because `City` was not unique in our `Salaries` DataFrame (we had two records for `Paris`), after merging, one record was created for 58k and one for 63k."
      ]
    },
    {
      "cell_type": "markdown",
      "metadata": {
        "id": "9uzbs53G5_dn"
      },
      "source": [
        "## Joining on Multiple Columns"
      ]
    },
    {
      "cell_type": "markdown",
      "metadata": {
        "id": "5kZ6MmZI5_do"
      },
      "source": [
        "So far, we have been joining on a single columns. That means, records in our primary table can be uniquely identified by that column alone. But this might no always be the case. What if I wanted to include average salaries from Paris, Texas and Dublin, Ohio? In this case we could have multiple records for `City`, but we could use a combination of `City` and `Country` to define our primary key."
      ]
    },
    {
      "cell_type": "code",
      "execution_count": null,
      "metadata": {
        "id": "OLlfo79k5_do",
        "outputId": "24b67f45-26a8-4aaa-bf51-9966f0986aaa"
      },
      "outputs": [
        {
          "data": {
            "text/html": [
              "<div>\n",
              "<style scoped>\n",
              "    .dataframe tbody tr th:only-of-type {\n",
              "        vertical-align: middle;\n",
              "    }\n",
              "\n",
              "    .dataframe tbody tr th {\n",
              "        vertical-align: top;\n",
              "    }\n",
              "\n",
              "    .dataframe thead th {\n",
              "        text-align: right;\n",
              "    }\n",
              "</style>\n",
              "<table border=\"1\" class=\"dataframe\">\n",
              "  <thead>\n",
              "    <tr style=\"text-align: right;\">\n",
              "      <th></th>\n",
              "      <th>Staff</th>\n",
              "      <th>City</th>\n",
              "      <th>Country</th>\n",
              "    </tr>\n",
              "  </thead>\n",
              "  <tbody>\n",
              "    <tr>\n",
              "      <th>0</th>\n",
              "      <td>Mary</td>\n",
              "      <td>Dublin</td>\n",
              "      <td>Ireland</td>\n",
              "    </tr>\n",
              "    <tr>\n",
              "      <th>1</th>\n",
              "      <td>John</td>\n",
              "      <td>Berlin</td>\n",
              "      <td>Germany</td>\n",
              "    </tr>\n",
              "    <tr>\n",
              "      <th>2</th>\n",
              "      <td>Jack</td>\n",
              "      <td>Warsaw</td>\n",
              "      <td>Poland</td>\n",
              "    </tr>\n",
              "    <tr>\n",
              "      <th>3</th>\n",
              "      <td>Sally</td>\n",
              "      <td>Paris</td>\n",
              "      <td>France</td>\n",
              "    </tr>\n",
              "    <tr>\n",
              "      <th>4</th>\n",
              "      <td>Mark</td>\n",
              "      <td>Dublin</td>\n",
              "      <td>US</td>\n",
              "    </tr>\n",
              "    <tr>\n",
              "      <th>5</th>\n",
              "      <td>Jane</td>\n",
              "      <td>Lisbon</td>\n",
              "      <td>Portugal</td>\n",
              "    </tr>\n",
              "  </tbody>\n",
              "</table>\n",
              "</div>"
            ],
            "text/plain": [
              "   Staff    City   Country\n",
              "0   Mary  Dublin   Ireland\n",
              "1   John  Berlin   Germany\n",
              "2   Jack  Warsaw    Poland\n",
              "3  Sally   Paris    France\n",
              "4   Mark  Dublin        US\n",
              "5   Jane  Lisbon  Portugal"
            ]
          },
          "execution_count": 124,
          "metadata": {},
          "output_type": "execute_result"
        }
      ],
      "source": [
        "staff  = pd.DataFrame({\"Staff\": ['Mary', 'John', 'Jack', 'Sally','Mark', 'Jane'],\n",
        "                       \"City\": ['Dublin', 'Berlin', 'Warsaw', 'Paris','Dublin', 'Lisbon'],\n",
        "                       \"Country\": ['Ireland', 'Germany', 'Poland', 'France', 'US','Portugal']})\n",
        "staff"
      ]
    },
    {
      "cell_type": "code",
      "execution_count": null,
      "metadata": {
        "id": "gaMRtP-v5_do",
        "outputId": "588c7327-875a-4805-d23c-b6366247a6a9"
      },
      "outputs": [
        {
          "data": {
            "text/html": [
              "<div>\n",
              "<style scoped>\n",
              "    .dataframe tbody tr th:only-of-type {\n",
              "        vertical-align: middle;\n",
              "    }\n",
              "\n",
              "    .dataframe tbody tr th {\n",
              "        vertical-align: top;\n",
              "    }\n",
              "\n",
              "    .dataframe thead th {\n",
              "        text-align: right;\n",
              "    }\n",
              "</style>\n",
              "<table border=\"1\" class=\"dataframe\">\n",
              "  <thead>\n",
              "    <tr style=\"text-align: right;\">\n",
              "      <th></th>\n",
              "      <th>City</th>\n",
              "      <th>Country</th>\n",
              "      <th>Avg Salary</th>\n",
              "    </tr>\n",
              "  </thead>\n",
              "  <tbody>\n",
              "    <tr>\n",
              "      <th>0</th>\n",
              "      <td>Paris</td>\n",
              "      <td>France</td>\n",
              "      <td>58000</td>\n",
              "    </tr>\n",
              "    <tr>\n",
              "      <th>1</th>\n",
              "      <td>Warsaw</td>\n",
              "      <td>Poland</td>\n",
              "      <td>45000</td>\n",
              "    </tr>\n",
              "    <tr>\n",
              "      <th>2</th>\n",
              "      <td>Berlin</td>\n",
              "      <td>Germany</td>\n",
              "      <td>55000</td>\n",
              "    </tr>\n",
              "    <tr>\n",
              "      <th>3</th>\n",
              "      <td>Dublin</td>\n",
              "      <td>Ireland</td>\n",
              "      <td>60000</td>\n",
              "    </tr>\n",
              "    <tr>\n",
              "      <th>4</th>\n",
              "      <td>London</td>\n",
              "      <td>London</td>\n",
              "      <td>62000</td>\n",
              "    </tr>\n",
              "    <tr>\n",
              "      <th>5</th>\n",
              "      <td>Paris</td>\n",
              "      <td>US</td>\n",
              "      <td>48000</td>\n",
              "    </tr>\n",
              "    <tr>\n",
              "      <th>6</th>\n",
              "      <td>Dublin</td>\n",
              "      <td>US</td>\n",
              "      <td>51000</td>\n",
              "    </tr>\n",
              "  </tbody>\n",
              "</table>\n",
              "</div>"
            ],
            "text/plain": [
              "     City  Country  Avg Salary\n",
              "0   Paris   France       58000\n",
              "1  Warsaw   Poland       45000\n",
              "2  Berlin  Germany       55000\n",
              "3  Dublin  Ireland       60000\n",
              "4  London   London       62000\n",
              "5   Paris       US       48000\n",
              "6  Dublin       US       51000"
            ]
          },
          "execution_count": 126,
          "metadata": {},
          "output_type": "execute_result"
        }
      ],
      "source": [
        "salaries = pd.DataFrame({'City': ['Paris','Warsaw','Berlin','Dublin', 'London', 'Paris', 'Dublin'],\n",
        "                         'Country':['France', 'Poland','Germany','Ireland','London', 'US', 'US'],\n",
        "                        'Avg Salary':[58000, 45000, 55000, 60000, 62000, 48000, 51000]})\n",
        "salaries"
      ]
    },
    {
      "cell_type": "markdown",
      "metadata": {
        "id": "sxOKyog15_dp"
      },
      "source": [
        "By default it will use a combination of similarly-named columns to form the key. Here, it recognises `City` and `Country` columns from both tables and joins on them."
      ]
    },
    {
      "cell_type": "code",
      "execution_count": null,
      "metadata": {
        "id": "lhxY1RmT5_dp",
        "outputId": "b764643a-c1da-4d20-b215-92b42bdc24b2"
      },
      "outputs": [
        {
          "data": {
            "text/html": [
              "<div>\n",
              "<style scoped>\n",
              "    .dataframe tbody tr th:only-of-type {\n",
              "        vertical-align: middle;\n",
              "    }\n",
              "\n",
              "    .dataframe tbody tr th {\n",
              "        vertical-align: top;\n",
              "    }\n",
              "\n",
              "    .dataframe thead th {\n",
              "        text-align: right;\n",
              "    }\n",
              "</style>\n",
              "<table border=\"1\" class=\"dataframe\">\n",
              "  <thead>\n",
              "    <tr style=\"text-align: right;\">\n",
              "      <th></th>\n",
              "      <th>Staff</th>\n",
              "      <th>City</th>\n",
              "      <th>Country</th>\n",
              "      <th>Avg Salary</th>\n",
              "    </tr>\n",
              "  </thead>\n",
              "  <tbody>\n",
              "    <tr>\n",
              "      <th>0</th>\n",
              "      <td>Mary</td>\n",
              "      <td>Dublin</td>\n",
              "      <td>Ireland</td>\n",
              "      <td>60000</td>\n",
              "    </tr>\n",
              "    <tr>\n",
              "      <th>1</th>\n",
              "      <td>John</td>\n",
              "      <td>Berlin</td>\n",
              "      <td>Germany</td>\n",
              "      <td>55000</td>\n",
              "    </tr>\n",
              "    <tr>\n",
              "      <th>2</th>\n",
              "      <td>Jack</td>\n",
              "      <td>Warsaw</td>\n",
              "      <td>Poland</td>\n",
              "      <td>45000</td>\n",
              "    </tr>\n",
              "    <tr>\n",
              "      <th>3</th>\n",
              "      <td>Sally</td>\n",
              "      <td>Paris</td>\n",
              "      <td>France</td>\n",
              "      <td>58000</td>\n",
              "    </tr>\n",
              "    <tr>\n",
              "      <th>4</th>\n",
              "      <td>Mark</td>\n",
              "      <td>Dublin</td>\n",
              "      <td>US</td>\n",
              "      <td>51000</td>\n",
              "    </tr>\n",
              "  </tbody>\n",
              "</table>\n",
              "</div>"
            ],
            "text/plain": [
              "   Staff    City  Country  Avg Salary\n",
              "0   Mary  Dublin  Ireland       60000\n",
              "1   John  Berlin  Germany       55000\n",
              "2   Jack  Warsaw   Poland       45000\n",
              "3  Sally   Paris   France       58000\n",
              "4   Mark  Dublin       US       51000"
            ]
          },
          "execution_count": 9,
          "metadata": {},
          "output_type": "execute_result"
        }
      ],
      "source": [
        "staff.merge(salaries)"
      ]
    },
    {
      "cell_type": "markdown",
      "metadata": {
        "id": "kNke9c4R5_dp"
      },
      "source": [
        "Stated explicitly, we would pass in a list in for each key."
      ]
    },
    {
      "cell_type": "code",
      "execution_count": null,
      "metadata": {
        "id": "z-j8F3gr5_dp",
        "outputId": "103b1b56-3696-43c4-c519-0260b6ff4865"
      },
      "outputs": [
        {
          "data": {
            "text/html": [
              "<div>\n",
              "<style scoped>\n",
              "    .dataframe tbody tr th:only-of-type {\n",
              "        vertical-align: middle;\n",
              "    }\n",
              "\n",
              "    .dataframe tbody tr th {\n",
              "        vertical-align: top;\n",
              "    }\n",
              "\n",
              "    .dataframe thead th {\n",
              "        text-align: right;\n",
              "    }\n",
              "</style>\n",
              "<table border=\"1\" class=\"dataframe\">\n",
              "  <thead>\n",
              "    <tr style=\"text-align: right;\">\n",
              "      <th></th>\n",
              "      <th>Staff</th>\n",
              "      <th>City</th>\n",
              "      <th>Country</th>\n",
              "      <th>Avg Salary</th>\n",
              "    </tr>\n",
              "  </thead>\n",
              "  <tbody>\n",
              "    <tr>\n",
              "      <th>0</th>\n",
              "      <td>Mary</td>\n",
              "      <td>Dublin</td>\n",
              "      <td>Ireland</td>\n",
              "      <td>60000</td>\n",
              "    </tr>\n",
              "    <tr>\n",
              "      <th>1</th>\n",
              "      <td>John</td>\n",
              "      <td>Berlin</td>\n",
              "      <td>Germany</td>\n",
              "      <td>55000</td>\n",
              "    </tr>\n",
              "    <tr>\n",
              "      <th>2</th>\n",
              "      <td>Jack</td>\n",
              "      <td>Warsaw</td>\n",
              "      <td>Poland</td>\n",
              "      <td>45000</td>\n",
              "    </tr>\n",
              "    <tr>\n",
              "      <th>3</th>\n",
              "      <td>Sally</td>\n",
              "      <td>Paris</td>\n",
              "      <td>France</td>\n",
              "      <td>58000</td>\n",
              "    </tr>\n",
              "    <tr>\n",
              "      <th>4</th>\n",
              "      <td>Mark</td>\n",
              "      <td>Dublin</td>\n",
              "      <td>US</td>\n",
              "      <td>51000</td>\n",
              "    </tr>\n",
              "  </tbody>\n",
              "</table>\n",
              "</div>"
            ],
            "text/plain": [
              "   Staff    City  Country  Avg Salary\n",
              "0   Mary  Dublin  Ireland       60000\n",
              "1   John  Berlin  Germany       55000\n",
              "2   Jack  Warsaw   Poland       45000\n",
              "3  Sally   Paris   France       58000\n",
              "4   Mark  Dublin       US       51000"
            ]
          },
          "execution_count": 11,
          "metadata": {},
          "output_type": "execute_result"
        }
      ],
      "source": [
        "staff.merge(salaries, left_on=['City', 'Country'], right_on=['City','Country'])"
      ]
    },
    {
      "cell_type": "markdown",
      "metadata": {
        "id": "mSXncrMC5_dq"
      },
      "source": [
        "## Special Cases"
      ]
    },
    {
      "cell_type": "markdown",
      "metadata": {
        "id": "ATctdWX-5_dq"
      },
      "source": [
        "### Append"
      ]
    },
    {
      "cell_type": "markdown",
      "metadata": {
        "id": "WNj5cyfo5_dq"
      },
      "source": [
        "If you know how to use concetenate properly, you don't need to use append. Append is just a special case of concatenation, where `axis=0, join='outer'` "
      ]
    },
    {
      "cell_type": "code",
      "execution_count": null,
      "metadata": {
        "id": "JTKOL0895_dq",
        "outputId": "6283ff0f-d16c-4dcd-dbcc-bac955767b02"
      },
      "outputs": [
        {
          "data": {
            "text/html": [
              "<div>\n",
              "<style scoped>\n",
              "    .dataframe tbody tr th:only-of-type {\n",
              "        vertical-align: middle;\n",
              "    }\n",
              "\n",
              "    .dataframe tbody tr th {\n",
              "        vertical-align: top;\n",
              "    }\n",
              "\n",
              "    .dataframe thead th {\n",
              "        text-align: right;\n",
              "    }\n",
              "</style>\n",
              "<table border=\"1\" class=\"dataframe\">\n",
              "  <thead>\n",
              "    <tr style=\"text-align: right;\">\n",
              "      <th></th>\n",
              "      <th>Month</th>\n",
              "      <th>Sales</th>\n",
              "    </tr>\n",
              "  </thead>\n",
              "  <tbody>\n",
              "    <tr>\n",
              "      <th>0</th>\n",
              "      <td>Jan</td>\n",
              "      <td>1200</td>\n",
              "    </tr>\n",
              "    <tr>\n",
              "      <th>1</th>\n",
              "      <td>Feb</td>\n",
              "      <td>1000</td>\n",
              "    </tr>\n",
              "    <tr>\n",
              "      <th>2</th>\n",
              "      <td>Mar</td>\n",
              "      <td>1100</td>\n",
              "    </tr>\n",
              "    <tr>\n",
              "      <th>0</th>\n",
              "      <td>April</td>\n",
              "      <td>1300</td>\n",
              "    </tr>\n",
              "    <tr>\n",
              "      <th>1</th>\n",
              "      <td>May</td>\n",
              "      <td>1400</td>\n",
              "    </tr>\n",
              "    <tr>\n",
              "      <th>2</th>\n",
              "      <td>Jun</td>\n",
              "      <td>1350</td>\n",
              "    </tr>\n",
              "  </tbody>\n",
              "</table>\n",
              "</div>"
            ],
            "text/plain": [
              "   Month  Sales\n",
              "0    Jan   1200\n",
              "1    Feb   1000\n",
              "2    Mar   1100\n",
              "0  April   1300\n",
              "1    May   1400\n",
              "2    Jun   1350"
            ]
          },
          "execution_count": 14,
          "metadata": {},
          "output_type": "execute_result"
        }
      ],
      "source": [
        "q1.append(q2)"
      ]
    },
    {
      "cell_type": "markdown",
      "metadata": {
        "id": "ofdBbqhF5_dr"
      },
      "source": [
        "### Join"
      ]
    },
    {
      "cell_type": "markdown",
      "metadata": {
        "id": "c7oHfIGJ5_dr"
      },
      "source": [
        "Join is a merge based on index. While with a merge you can specify the column or index to merge on, join merges both DataFrames on the index. Let's take a look at our `brics` dataset again."
      ]
    },
    {
      "cell_type": "code",
      "execution_count": null,
      "metadata": {
        "id": "ZztOTVRe5_dr",
        "outputId": "c64b3f57-340f-4131-b82b-e1b8b70bece6"
      },
      "outputs": [
        {
          "data": {
            "text/html": [
              "<div>\n",
              "<style scoped>\n",
              "    .dataframe tbody tr th:only-of-type {\n",
              "        vertical-align: middle;\n",
              "    }\n",
              "\n",
              "    .dataframe tbody tr th {\n",
              "        vertical-align: top;\n",
              "    }\n",
              "\n",
              "    .dataframe thead th {\n",
              "        text-align: right;\n",
              "    }\n",
              "</style>\n",
              "<table border=\"1\" class=\"dataframe\">\n",
              "  <thead>\n",
              "    <tr style=\"text-align: right;\">\n",
              "      <th></th>\n",
              "      <th>country</th>\n",
              "      <th>capital</th>\n",
              "      <th>area</th>\n",
              "      <th>population</th>\n",
              "    </tr>\n",
              "    <tr>\n",
              "      <th>label</th>\n",
              "      <th></th>\n",
              "      <th></th>\n",
              "      <th></th>\n",
              "      <th></th>\n",
              "    </tr>\n",
              "  </thead>\n",
              "  <tbody>\n",
              "    <tr>\n",
              "      <th>BR</th>\n",
              "      <td>Brazil</td>\n",
              "      <td>Brasilia</td>\n",
              "      <td>8.516</td>\n",
              "      <td>200.40</td>\n",
              "    </tr>\n",
              "    <tr>\n",
              "      <th>RU</th>\n",
              "      <td>Russia</td>\n",
              "      <td>Moscow</td>\n",
              "      <td>17.100</td>\n",
              "      <td>143.50</td>\n",
              "    </tr>\n",
              "    <tr>\n",
              "      <th>IN</th>\n",
              "      <td>India</td>\n",
              "      <td>New Dehli</td>\n",
              "      <td>3.286</td>\n",
              "      <td>1252.00</td>\n",
              "    </tr>\n",
              "    <tr>\n",
              "      <th>CH</th>\n",
              "      <td>China</td>\n",
              "      <td>Beijing</td>\n",
              "      <td>9.597</td>\n",
              "      <td>1357.00</td>\n",
              "    </tr>\n",
              "    <tr>\n",
              "      <th>SA</th>\n",
              "      <td>South Africa</td>\n",
              "      <td>Pretoria</td>\n",
              "      <td>1.221</td>\n",
              "      <td>52.98</td>\n",
              "    </tr>\n",
              "  </tbody>\n",
              "</table>\n",
              "</div>"
            ],
            "text/plain": [
              "            country    capital    area  population\n",
              "label                                             \n",
              "BR           Brazil   Brasilia   8.516      200.40\n",
              "RU           Russia     Moscow  17.100      143.50\n",
              "IN            India  New Dehli   3.286     1252.00\n",
              "CH            China    Beijing   9.597     1357.00\n",
              "SA     South Africa   Pretoria   1.221       52.98"
            ]
          },
          "execution_count": 17,
          "metadata": {},
          "output_type": "execute_result"
        }
      ],
      "source": [
        "brics_df"
      ]
    },
    {
      "cell_type": "code",
      "execution_count": null,
      "metadata": {
        "id": "m_8BdILY5_dr",
        "outputId": "3d8df5ff-4f0c-45e4-a607-019bbdfebb4d"
      },
      "outputs": [
        {
          "data": {
            "text/html": [
              "<div>\n",
              "<style scoped>\n",
              "    .dataframe tbody tr th:only-of-type {\n",
              "        vertical-align: middle;\n",
              "    }\n",
              "\n",
              "    .dataframe tbody tr th {\n",
              "        vertical-align: top;\n",
              "    }\n",
              "\n",
              "    .dataframe thead th {\n",
              "        text-align: right;\n",
              "    }\n",
              "</style>\n",
              "<table border=\"1\" class=\"dataframe\">\n",
              "  <thead>\n",
              "    <tr style=\"text-align: right;\">\n",
              "      <th></th>\n",
              "      <th>sales</th>\n",
              "    </tr>\n",
              "    <tr>\n",
              "      <th>label</th>\n",
              "      <th></th>\n",
              "    </tr>\n",
              "  </thead>\n",
              "  <tbody>\n",
              "    <tr>\n",
              "      <th>BR</th>\n",
              "      <td>8000</td>\n",
              "    </tr>\n",
              "    <tr>\n",
              "      <th>RU</th>\n",
              "      <td>17000</td>\n",
              "    </tr>\n",
              "    <tr>\n",
              "      <th>IN</th>\n",
              "      <td>3000</td>\n",
              "    </tr>\n",
              "    <tr>\n",
              "      <th>CH</th>\n",
              "      <td>9000</td>\n",
              "    </tr>\n",
              "    <tr>\n",
              "      <th>SA</th>\n",
              "      <td>10000</td>\n",
              "    </tr>\n",
              "  </tbody>\n",
              "</table>\n",
              "</div>"
            ],
            "text/plain": [
              "       sales\n",
              "label       \n",
              "BR      8000\n",
              "RU     17000\n",
              "IN      3000\n",
              "CH      9000\n",
              "SA     10000"
            ]
          },
          "execution_count": 128,
          "metadata": {},
          "output_type": "execute_result"
        }
      ],
      "source": [
        "sales = {'label': ['BR','RU','IN','CH','SA'],\n",
        "         'sales':  [8000, 17000, 3000, 9000, 10000]}\n",
        "\n",
        "sales_df = pd.DataFrame(sales).set_index('label')\n",
        "sales_df"
      ]
    },
    {
      "cell_type": "markdown",
      "metadata": {
        "id": "Q9dwiSBR5_ds"
      },
      "source": [
        "If we want to `merge()` on the index here (`label`), we would have to state that explicitly using `left_index=True` and `right_index=True`"
      ]
    },
    {
      "cell_type": "code",
      "execution_count": null,
      "metadata": {
        "id": "NLz9XnFl5_ds",
        "outputId": "9afc850c-0bef-45c3-d08e-9692cd65f441"
      },
      "outputs": [
        {
          "data": {
            "text/html": [
              "<div>\n",
              "<style scoped>\n",
              "    .dataframe tbody tr th:only-of-type {\n",
              "        vertical-align: middle;\n",
              "    }\n",
              "\n",
              "    .dataframe tbody tr th {\n",
              "        vertical-align: top;\n",
              "    }\n",
              "\n",
              "    .dataframe thead th {\n",
              "        text-align: right;\n",
              "    }\n",
              "</style>\n",
              "<table border=\"1\" class=\"dataframe\">\n",
              "  <thead>\n",
              "    <tr style=\"text-align: right;\">\n",
              "      <th></th>\n",
              "      <th>country</th>\n",
              "      <th>capital</th>\n",
              "      <th>area</th>\n",
              "      <th>population</th>\n",
              "      <th>sales</th>\n",
              "    </tr>\n",
              "    <tr>\n",
              "      <th>label</th>\n",
              "      <th></th>\n",
              "      <th></th>\n",
              "      <th></th>\n",
              "      <th></th>\n",
              "      <th></th>\n",
              "    </tr>\n",
              "  </thead>\n",
              "  <tbody>\n",
              "    <tr>\n",
              "      <th>BR</th>\n",
              "      <td>Brazil</td>\n",
              "      <td>Brasilia</td>\n",
              "      <td>8.516</td>\n",
              "      <td>200.40</td>\n",
              "      <td>8000</td>\n",
              "    </tr>\n",
              "    <tr>\n",
              "      <th>RU</th>\n",
              "      <td>Russia</td>\n",
              "      <td>Moscow</td>\n",
              "      <td>17.100</td>\n",
              "      <td>143.50</td>\n",
              "      <td>17000</td>\n",
              "    </tr>\n",
              "    <tr>\n",
              "      <th>IN</th>\n",
              "      <td>India</td>\n",
              "      <td>New Dehli</td>\n",
              "      <td>3.286</td>\n",
              "      <td>1252.00</td>\n",
              "      <td>3000</td>\n",
              "    </tr>\n",
              "    <tr>\n",
              "      <th>CH</th>\n",
              "      <td>China</td>\n",
              "      <td>Beijing</td>\n",
              "      <td>9.597</td>\n",
              "      <td>1357.00</td>\n",
              "      <td>9000</td>\n",
              "    </tr>\n",
              "    <tr>\n",
              "      <th>SA</th>\n",
              "      <td>South Africa</td>\n",
              "      <td>Pretoria</td>\n",
              "      <td>1.221</td>\n",
              "      <td>52.98</td>\n",
              "      <td>10000</td>\n",
              "    </tr>\n",
              "  </tbody>\n",
              "</table>\n",
              "</div>"
            ],
            "text/plain": [
              "            country    capital    area  population  sales\n",
              "label                                                    \n",
              "BR           Brazil   Brasilia   8.516      200.40   8000\n",
              "RU           Russia     Moscow  17.100      143.50  17000\n",
              "IN            India  New Dehli   3.286     1252.00   3000\n",
              "CH            China    Beijing   9.597     1357.00   9000\n",
              "SA     South Africa   Pretoria   1.221       52.98  10000"
            ]
          },
          "execution_count": 131,
          "metadata": {},
          "output_type": "execute_result"
        }
      ],
      "source": [
        "brics_df.merge(sales_df, left_index=True, right_index=True)"
      ]
    },
    {
      "cell_type": "markdown",
      "metadata": {
        "id": "FsGWX3Xx5_ds"
      },
      "source": [
        "This can be a bit cumbersome, for such a fairly commmon join type, so the `join()` function was created. It is basically just a `merge()` but with `left_index=True`, `right_index=True` and `how='inner'`."
      ]
    },
    {
      "cell_type": "code",
      "execution_count": null,
      "metadata": {
        "id": "hr0PsWMb5_ds",
        "outputId": "ca70ffe5-41d2-48b5-d135-b6043872da4e"
      },
      "outputs": [
        {
          "data": {
            "text/html": [
              "<div>\n",
              "<style scoped>\n",
              "    .dataframe tbody tr th:only-of-type {\n",
              "        vertical-align: middle;\n",
              "    }\n",
              "\n",
              "    .dataframe tbody tr th {\n",
              "        vertical-align: top;\n",
              "    }\n",
              "\n",
              "    .dataframe thead th {\n",
              "        text-align: right;\n",
              "    }\n",
              "</style>\n",
              "<table border=\"1\" class=\"dataframe\">\n",
              "  <thead>\n",
              "    <tr style=\"text-align: right;\">\n",
              "      <th></th>\n",
              "      <th>country</th>\n",
              "      <th>capital</th>\n",
              "      <th>area</th>\n",
              "      <th>population</th>\n",
              "      <th>sales</th>\n",
              "    </tr>\n",
              "    <tr>\n",
              "      <th>label</th>\n",
              "      <th></th>\n",
              "      <th></th>\n",
              "      <th></th>\n",
              "      <th></th>\n",
              "      <th></th>\n",
              "    </tr>\n",
              "  </thead>\n",
              "  <tbody>\n",
              "    <tr>\n",
              "      <th>BR</th>\n",
              "      <td>Brazil</td>\n",
              "      <td>Brasilia</td>\n",
              "      <td>8.516</td>\n",
              "      <td>200.40</td>\n",
              "      <td>8000</td>\n",
              "    </tr>\n",
              "    <tr>\n",
              "      <th>RU</th>\n",
              "      <td>Russia</td>\n",
              "      <td>Moscow</td>\n",
              "      <td>17.100</td>\n",
              "      <td>143.50</td>\n",
              "      <td>17000</td>\n",
              "    </tr>\n",
              "    <tr>\n",
              "      <th>IN</th>\n",
              "      <td>India</td>\n",
              "      <td>New Dehli</td>\n",
              "      <td>3.286</td>\n",
              "      <td>1252.00</td>\n",
              "      <td>3000</td>\n",
              "    </tr>\n",
              "    <tr>\n",
              "      <th>CH</th>\n",
              "      <td>China</td>\n",
              "      <td>Beijing</td>\n",
              "      <td>9.597</td>\n",
              "      <td>1357.00</td>\n",
              "      <td>9000</td>\n",
              "    </tr>\n",
              "    <tr>\n",
              "      <th>SA</th>\n",
              "      <td>South Africa</td>\n",
              "      <td>Pretoria</td>\n",
              "      <td>1.221</td>\n",
              "      <td>52.98</td>\n",
              "      <td>10000</td>\n",
              "    </tr>\n",
              "  </tbody>\n",
              "</table>\n",
              "</div>"
            ],
            "text/plain": [
              "            country    capital    area  population  sales\n",
              "label                                                    \n",
              "BR           Brazil   Brasilia   8.516      200.40   8000\n",
              "RU           Russia     Moscow  17.100      143.50  17000\n",
              "IN            India  New Dehli   3.286     1252.00   3000\n",
              "CH            China    Beijing   9.597     1357.00   9000\n",
              "SA     South Africa   Pretoria   1.221       52.98  10000"
            ]
          },
          "execution_count": 24,
          "metadata": {},
          "output_type": "execute_result"
        }
      ],
      "source": [
        "brics_df.join(sales_df)"
      ]
    },
    {
      "cell_type": "markdown",
      "metadata": {
        "id": "m7ku_NYW5_dt"
      },
      "source": [
        "### Creating a Primary Key by Grouping"
      ]
    },
    {
      "cell_type": "markdown",
      "metadata": {
        "id": "8TBBWLUg5_dt"
      },
      "source": [
        "So far we have been using datasets where at least one table had a primary key, i.e. the records of the key were unique. This allowed up to merge without fear of create duplication. But what if this is not the case? Then, we can consider grouping our data to create a unique key. This is akin to creating a pivot table. In this example, I have details on penguins across some Antarctic islands. Nothing about these penguins uniquely identifies them."
      ]
    },
    {
      "cell_type": "code",
      "execution_count": null,
      "metadata": {
        "id": "1cWGWZRY5_dt",
        "outputId": "cec4e9b4-09b9-482d-ea51-d2080655a38e"
      },
      "outputs": [
        {
          "data": {
            "text/html": [
              "<div>\n",
              "<style scoped>\n",
              "    .dataframe tbody tr th:only-of-type {\n",
              "        vertical-align: middle;\n",
              "    }\n",
              "\n",
              "    .dataframe tbody tr th {\n",
              "        vertical-align: top;\n",
              "    }\n",
              "\n",
              "    .dataframe thead th {\n",
              "        text-align: right;\n",
              "    }\n",
              "</style>\n",
              "<table border=\"1\" class=\"dataframe\">\n",
              "  <thead>\n",
              "    <tr style=\"text-align: right;\">\n",
              "      <th></th>\n",
              "      <th>species</th>\n",
              "      <th>island</th>\n",
              "      <th>bill_length_mm</th>\n",
              "      <th>bill_depth_mm</th>\n",
              "      <th>flipper_length_mm</th>\n",
              "      <th>body_mass_g</th>\n",
              "      <th>sex</th>\n",
              "    </tr>\n",
              "  </thead>\n",
              "  <tbody>\n",
              "    <tr>\n",
              "      <th>0</th>\n",
              "      <td>Adelie</td>\n",
              "      <td>Torgersen</td>\n",
              "      <td>39.1</td>\n",
              "      <td>18.7</td>\n",
              "      <td>181.0</td>\n",
              "      <td>3750.0</td>\n",
              "      <td>Male</td>\n",
              "    </tr>\n",
              "    <tr>\n",
              "      <th>1</th>\n",
              "      <td>Adelie</td>\n",
              "      <td>Torgersen</td>\n",
              "      <td>39.5</td>\n",
              "      <td>17.4</td>\n",
              "      <td>186.0</td>\n",
              "      <td>3800.0</td>\n",
              "      <td>Female</td>\n",
              "    </tr>\n",
              "    <tr>\n",
              "      <th>2</th>\n",
              "      <td>Adelie</td>\n",
              "      <td>Torgersen</td>\n",
              "      <td>40.3</td>\n",
              "      <td>18.0</td>\n",
              "      <td>195.0</td>\n",
              "      <td>3250.0</td>\n",
              "      <td>Female</td>\n",
              "    </tr>\n",
              "    <tr>\n",
              "      <th>3</th>\n",
              "      <td>Adelie</td>\n",
              "      <td>Torgersen</td>\n",
              "      <td>NaN</td>\n",
              "      <td>NaN</td>\n",
              "      <td>NaN</td>\n",
              "      <td>NaN</td>\n",
              "      <td>NaN</td>\n",
              "    </tr>\n",
              "    <tr>\n",
              "      <th>4</th>\n",
              "      <td>Adelie</td>\n",
              "      <td>Torgersen</td>\n",
              "      <td>36.7</td>\n",
              "      <td>19.3</td>\n",
              "      <td>193.0</td>\n",
              "      <td>3450.0</td>\n",
              "      <td>Female</td>\n",
              "    </tr>\n",
              "    <tr>\n",
              "      <th>...</th>\n",
              "      <td>...</td>\n",
              "      <td>...</td>\n",
              "      <td>...</td>\n",
              "      <td>...</td>\n",
              "      <td>...</td>\n",
              "      <td>...</td>\n",
              "      <td>...</td>\n",
              "    </tr>\n",
              "    <tr>\n",
              "      <th>339</th>\n",
              "      <td>Gentoo</td>\n",
              "      <td>Biscoe</td>\n",
              "      <td>NaN</td>\n",
              "      <td>NaN</td>\n",
              "      <td>NaN</td>\n",
              "      <td>NaN</td>\n",
              "      <td>NaN</td>\n",
              "    </tr>\n",
              "    <tr>\n",
              "      <th>340</th>\n",
              "      <td>Gentoo</td>\n",
              "      <td>Biscoe</td>\n",
              "      <td>46.8</td>\n",
              "      <td>14.3</td>\n",
              "      <td>215.0</td>\n",
              "      <td>4850.0</td>\n",
              "      <td>Female</td>\n",
              "    </tr>\n",
              "    <tr>\n",
              "      <th>341</th>\n",
              "      <td>Gentoo</td>\n",
              "      <td>Biscoe</td>\n",
              "      <td>50.4</td>\n",
              "      <td>15.7</td>\n",
              "      <td>222.0</td>\n",
              "      <td>5750.0</td>\n",
              "      <td>Male</td>\n",
              "    </tr>\n",
              "    <tr>\n",
              "      <th>342</th>\n",
              "      <td>Gentoo</td>\n",
              "      <td>Biscoe</td>\n",
              "      <td>45.2</td>\n",
              "      <td>14.8</td>\n",
              "      <td>212.0</td>\n",
              "      <td>5200.0</td>\n",
              "      <td>Female</td>\n",
              "    </tr>\n",
              "    <tr>\n",
              "      <th>343</th>\n",
              "      <td>Gentoo</td>\n",
              "      <td>Biscoe</td>\n",
              "      <td>49.9</td>\n",
              "      <td>16.1</td>\n",
              "      <td>213.0</td>\n",
              "      <td>5400.0</td>\n",
              "      <td>Male</td>\n",
              "    </tr>\n",
              "  </tbody>\n",
              "</table>\n",
              "<p>344 rows × 7 columns</p>\n",
              "</div>"
            ],
            "text/plain": [
              "    species     island  bill_length_mm  bill_depth_mm  flipper_length_mm  \\\n",
              "0    Adelie  Torgersen            39.1           18.7              181.0   \n",
              "1    Adelie  Torgersen            39.5           17.4              186.0   \n",
              "2    Adelie  Torgersen            40.3           18.0              195.0   \n",
              "3    Adelie  Torgersen             NaN            NaN                NaN   \n",
              "4    Adelie  Torgersen            36.7           19.3              193.0   \n",
              "..      ...        ...             ...            ...                ...   \n",
              "339  Gentoo     Biscoe             NaN            NaN                NaN   \n",
              "340  Gentoo     Biscoe            46.8           14.3              215.0   \n",
              "341  Gentoo     Biscoe            50.4           15.7              222.0   \n",
              "342  Gentoo     Biscoe            45.2           14.8              212.0   \n",
              "343  Gentoo     Biscoe            49.9           16.1              213.0   \n",
              "\n",
              "     body_mass_g     sex  \n",
              "0         3750.0    Male  \n",
              "1         3800.0  Female  \n",
              "2         3250.0  Female  \n",
              "3            NaN     NaN  \n",
              "4         3450.0  Female  \n",
              "..           ...     ...  \n",
              "339          NaN     NaN  \n",
              "340       4850.0  Female  \n",
              "341       5750.0    Male  \n",
              "342       5200.0  Female  \n",
              "343       5400.0    Male  \n",
              "\n",
              "[344 rows x 7 columns]"
            ]
          },
          "execution_count": 135,
          "metadata": {},
          "output_type": "execute_result"
        }
      ],
      "source": [
        "import seaborn as sns\n",
        "penguins = sns.load_dataset('penguins')\n",
        "penguins"
      ]
    },
    {
      "cell_type": "markdown",
      "metadata": {
        "id": "j30yUHDT5_du"
      },
      "source": [
        "And now, say I have a collection of temperature readings from these islands. Again, nothing to uniquely identify these records"
      ]
    },
    {
      "cell_type": "code",
      "execution_count": null,
      "metadata": {
        "id": "_bgm1yEa5_du",
        "outputId": "49a52eab-bac2-46b2-c518-9db48b396033"
      },
      "outputs": [
        {
          "data": {
            "text/html": [
              "<div>\n",
              "<style scoped>\n",
              "    .dataframe tbody tr th:only-of-type {\n",
              "        vertical-align: middle;\n",
              "    }\n",
              "\n",
              "    .dataframe tbody tr th {\n",
              "        vertical-align: top;\n",
              "    }\n",
              "\n",
              "    .dataframe thead th {\n",
              "        text-align: right;\n",
              "    }\n",
              "</style>\n",
              "<table border=\"1\" class=\"dataframe\">\n",
              "  <thead>\n",
              "    <tr style=\"text-align: right;\">\n",
              "      <th></th>\n",
              "      <th>island</th>\n",
              "      <th>temp</th>\n",
              "    </tr>\n",
              "  </thead>\n",
              "  <tbody>\n",
              "    <tr>\n",
              "      <th>0</th>\n",
              "      <td>Biscoe</td>\n",
              "      <td>-2</td>\n",
              "    </tr>\n",
              "    <tr>\n",
              "      <th>1</th>\n",
              "      <td>Biscoe</td>\n",
              "      <td>-3</td>\n",
              "    </tr>\n",
              "    <tr>\n",
              "      <th>2</th>\n",
              "      <td>Biscoe</td>\n",
              "      <td>-5</td>\n",
              "    </tr>\n",
              "    <tr>\n",
              "      <th>3</th>\n",
              "      <td>Biscoe</td>\n",
              "      <td>-4</td>\n",
              "    </tr>\n",
              "    <tr>\n",
              "      <th>4</th>\n",
              "      <td>Dream</td>\n",
              "      <td>-5</td>\n",
              "    </tr>\n",
              "    <tr>\n",
              "      <th>5</th>\n",
              "      <td>Dream</td>\n",
              "      <td>-1</td>\n",
              "    </tr>\n",
              "    <tr>\n",
              "      <th>6</th>\n",
              "      <td>Dream</td>\n",
              "      <td>-3</td>\n",
              "    </tr>\n",
              "    <tr>\n",
              "      <th>7</th>\n",
              "      <td>Dream</td>\n",
              "      <td>0</td>\n",
              "    </tr>\n",
              "    <tr>\n",
              "      <th>8</th>\n",
              "      <td>Torgersen</td>\n",
              "      <td>-5</td>\n",
              "    </tr>\n",
              "    <tr>\n",
              "      <th>9</th>\n",
              "      <td>Torgersen</td>\n",
              "      <td>-4</td>\n",
              "    </tr>\n",
              "    <tr>\n",
              "      <th>10</th>\n",
              "      <td>Torgersen</td>\n",
              "      <td>-4</td>\n",
              "    </tr>\n",
              "    <tr>\n",
              "      <th>11</th>\n",
              "      <td>Torgersen</td>\n",
              "      <td>-5</td>\n",
              "    </tr>\n",
              "    <tr>\n",
              "      <th>12</th>\n",
              "      <td>Anvers</td>\n",
              "      <td>-3</td>\n",
              "    </tr>\n",
              "    <tr>\n",
              "      <th>13</th>\n",
              "      <td>Anvers</td>\n",
              "      <td>-1</td>\n",
              "    </tr>\n",
              "    <tr>\n",
              "      <th>14</th>\n",
              "      <td>Anvers</td>\n",
              "      <td>0</td>\n",
              "    </tr>\n",
              "    <tr>\n",
              "      <th>15</th>\n",
              "      <td>Anvers</td>\n",
              "      <td>-5</td>\n",
              "    </tr>\n",
              "  </tbody>\n",
              "</table>\n",
              "</div>"
            ],
            "text/plain": [
              "       island  temp\n",
              "0      Biscoe    -2\n",
              "1      Biscoe    -3\n",
              "2      Biscoe    -5\n",
              "3      Biscoe    -4\n",
              "4       Dream    -5\n",
              "5       Dream    -1\n",
              "6       Dream    -3\n",
              "7       Dream     0\n",
              "8   Torgersen    -5\n",
              "9   Torgersen    -4\n",
              "10  Torgersen    -4\n",
              "11  Torgersen    -5\n",
              "12     Anvers    -3\n",
              "13     Anvers    -1\n",
              "14     Anvers     0\n",
              "15     Anvers    -5"
            ]
          },
          "execution_count": 138,
          "metadata": {},
          "output_type": "execute_result"
        }
      ],
      "source": [
        "temps = {'island':['Biscoe','Biscoe','Biscoe','Biscoe',\n",
        "                   'Dream','Dream','Dream','Dream',\n",
        "                   'Torgersen','Torgersen','Torgersen','Torgersen',\n",
        "                   'Anvers','Anvers','Anvers','Anvers'],\n",
        "         'temp':[-2, -3, -5, -4, -5, -1, -3, 0,\n",
        "                 -5, -4, -4, -5, -3, -1, 0, -5]}\n",
        "\n",
        "temps = pd.DataFrame(temps)\n",
        "temps"
      ]
    },
    {
      "cell_type": "markdown",
      "metadata": {
        "id": "ns7SVDsP5_du"
      },
      "source": [
        "If I wanted to join these two tables together by `island`, it would cause a lot of duplication."
      ]
    },
    {
      "cell_type": "code",
      "execution_count": null,
      "metadata": {
        "id": "aSo1GjfW5_du",
        "outputId": "a2ea3f3f-d2b8-4c09-e354-8ab9430ead2a"
      },
      "outputs": [
        {
          "data": {
            "text/plain": [
              "(1376, 8)"
            ]
          },
          "execution_count": 143,
          "metadata": {},
          "output_type": "execute_result"
        }
      ],
      "source": [
        "penguins.merge(temps).shape  # Making that join and printing the shape"
      ]
    },
    {
      "cell_type": "markdown",
      "metadata": {
        "id": "Y-Jvlvpj5_du"
      },
      "source": [
        "I joined my `penguins` table (`344` rows) with my `temps` table (`16` rows) and I've ended up with `1376` rows!\n",
        "In this case, what we are going to want to do is first group the data by `island`, making this a unique record (effectively creating a primary key) and then do my merger. \n",
        "\n",
        "We group using the `groupby()` method. This is a two step process: We must first provide the column or columns to group by. Then specify how we would like the rows to be aggregated."
      ]
    },
    {
      "cell_type": "code",
      "execution_count": null,
      "metadata": {
        "id": "oXJ5x2ts5_dv",
        "outputId": "39362892-f068-48f0-fadd-ea93fb3ea7f9"
      },
      "outputs": [
        {
          "data": {
            "text/html": [
              "<div>\n",
              "<style scoped>\n",
              "    .dataframe tbody tr th:only-of-type {\n",
              "        vertical-align: middle;\n",
              "    }\n",
              "\n",
              "    .dataframe tbody tr th {\n",
              "        vertical-align: top;\n",
              "    }\n",
              "\n",
              "    .dataframe thead th {\n",
              "        text-align: right;\n",
              "    }\n",
              "</style>\n",
              "<table border=\"1\" class=\"dataframe\">\n",
              "  <thead>\n",
              "    <tr style=\"text-align: right;\">\n",
              "      <th></th>\n",
              "      <th>bill_length_mm</th>\n",
              "      <th>bill_depth_mm</th>\n",
              "      <th>flipper_length_mm</th>\n",
              "      <th>body_mass_g</th>\n",
              "    </tr>\n",
              "    <tr>\n",
              "      <th>island</th>\n",
              "      <th></th>\n",
              "      <th></th>\n",
              "      <th></th>\n",
              "      <th></th>\n",
              "    </tr>\n",
              "  </thead>\n",
              "  <tbody>\n",
              "    <tr>\n",
              "      <th>Biscoe</th>\n",
              "      <td>45.257485</td>\n",
              "      <td>15.874850</td>\n",
              "      <td>209.706587</td>\n",
              "      <td>4716.017964</td>\n",
              "    </tr>\n",
              "    <tr>\n",
              "      <th>Dream</th>\n",
              "      <td>44.167742</td>\n",
              "      <td>18.344355</td>\n",
              "      <td>193.072581</td>\n",
              "      <td>3712.903226</td>\n",
              "    </tr>\n",
              "    <tr>\n",
              "      <th>Torgersen</th>\n",
              "      <td>38.950980</td>\n",
              "      <td>18.429412</td>\n",
              "      <td>191.196078</td>\n",
              "      <td>3706.372549</td>\n",
              "    </tr>\n",
              "  </tbody>\n",
              "</table>\n",
              "</div>"
            ],
            "text/plain": [
              "           bill_length_mm  bill_depth_mm  flipper_length_mm  body_mass_g\n",
              "island                                                                  \n",
              "Biscoe          45.257485      15.874850         209.706587  4716.017964\n",
              "Dream           44.167742      18.344355         193.072581  3712.903226\n",
              "Torgersen       38.950980      18.429412         191.196078  3706.372549"
            ]
          },
          "execution_count": 146,
          "metadata": {},
          "output_type": "execute_result"
        }
      ],
      "source": [
        "# Group by Island, average the numeric columns\n",
        "penguins_grouped = penguins.groupby(['island']).mean()\n",
        "penguins_grouped"
      ]
    },
    {
      "cell_type": "markdown",
      "metadata": {
        "id": "Nl35wW7q5_dv"
      },
      "source": [
        "We would aggregate each column differently using the `agg()` and passing in a dictionary."
      ]
    },
    {
      "cell_type": "code",
      "execution_count": null,
      "metadata": {
        "id": "GfPuR42h5_dv",
        "outputId": "f626c640-3bc9-4aad-a71d-41e3ece75e73"
      },
      "outputs": [
        {
          "data": {
            "text/html": [
              "<div>\n",
              "<style scoped>\n",
              "    .dataframe tbody tr th:only-of-type {\n",
              "        vertical-align: middle;\n",
              "    }\n",
              "\n",
              "    .dataframe tbody tr th {\n",
              "        vertical-align: top;\n",
              "    }\n",
              "\n",
              "    .dataframe thead th {\n",
              "        text-align: right;\n",
              "    }\n",
              "</style>\n",
              "<table border=\"1\" class=\"dataframe\">\n",
              "  <thead>\n",
              "    <tr style=\"text-align: right;\">\n",
              "      <th></th>\n",
              "      <th>bill_length_mm</th>\n",
              "      <th>body_mass_g</th>\n",
              "    </tr>\n",
              "    <tr>\n",
              "      <th>island</th>\n",
              "      <th></th>\n",
              "      <th></th>\n",
              "    </tr>\n",
              "  </thead>\n",
              "  <tbody>\n",
              "    <tr>\n",
              "      <th>Biscoe</th>\n",
              "      <td>45.257485</td>\n",
              "      <td>787575.0</td>\n",
              "    </tr>\n",
              "    <tr>\n",
              "      <th>Dream</th>\n",
              "      <td>44.167742</td>\n",
              "      <td>460400.0</td>\n",
              "    </tr>\n",
              "    <tr>\n",
              "      <th>Torgersen</th>\n",
              "      <td>38.950980</td>\n",
              "      <td>189025.0</td>\n",
              "    </tr>\n",
              "  </tbody>\n",
              "</table>\n",
              "</div>"
            ],
            "text/plain": [
              "           bill_length_mm  body_mass_g\n",
              "island                                \n",
              "Biscoe          45.257485     787575.0\n",
              "Dream           44.167742     460400.0\n",
              "Torgersen       38.950980     189025.0"
            ]
          },
          "execution_count": 148,
          "metadata": {},
          "output_type": "execute_result"
        }
      ],
      "source": [
        "penguins_grouped = penguins.groupby(['island']).agg({'bill_length_mm':'mean', 'body_mass_g':'sum'})\n",
        "penguins_grouped"
      ]
    },
    {
      "cell_type": "markdown",
      "metadata": {
        "id": "uqayr1WO5_dv"
      },
      "source": [
        "We can also group by multiple columns by passing in a list."
      ]
    },
    {
      "cell_type": "code",
      "execution_count": null,
      "metadata": {
        "id": "ugIjlRVg5_dv",
        "outputId": "d22fbdd0-09fa-47c5-976f-7296ac7c8d3d"
      },
      "outputs": [
        {
          "data": {
            "text/html": [
              "<div>\n",
              "<style scoped>\n",
              "    .dataframe tbody tr th:only-of-type {\n",
              "        vertical-align: middle;\n",
              "    }\n",
              "\n",
              "    .dataframe tbody tr th {\n",
              "        vertical-align: top;\n",
              "    }\n",
              "\n",
              "    .dataframe thead th {\n",
              "        text-align: right;\n",
              "    }\n",
              "</style>\n",
              "<table border=\"1\" class=\"dataframe\">\n",
              "  <thead>\n",
              "    <tr style=\"text-align: right;\">\n",
              "      <th></th>\n",
              "      <th></th>\n",
              "      <th>bill_length_mm</th>\n",
              "      <th>bill_depth_mm</th>\n",
              "      <th>flipper_length_mm</th>\n",
              "      <th>body_mass_g</th>\n",
              "    </tr>\n",
              "    <tr>\n",
              "      <th>island</th>\n",
              "      <th>sex</th>\n",
              "      <th></th>\n",
              "      <th></th>\n",
              "      <th></th>\n",
              "      <th></th>\n",
              "    </tr>\n",
              "  </thead>\n",
              "  <tbody>\n",
              "    <tr>\n",
              "      <th rowspan=\"2\" valign=\"top\">Biscoe</th>\n",
              "      <th>Female</th>\n",
              "      <td>43.307500</td>\n",
              "      <td>15.191250</td>\n",
              "      <td>205.687500</td>\n",
              "      <td>4319.375000</td>\n",
              "    </tr>\n",
              "    <tr>\n",
              "      <th>Male</th>\n",
              "      <td>47.119277</td>\n",
              "      <td>16.597590</td>\n",
              "      <td>213.289157</td>\n",
              "      <td>5104.518072</td>\n",
              "    </tr>\n",
              "    <tr>\n",
              "      <th rowspan=\"2\" valign=\"top\">Dream</th>\n",
              "      <th>Female</th>\n",
              "      <td>42.296721</td>\n",
              "      <td>17.601639</td>\n",
              "      <td>190.016393</td>\n",
              "      <td>3446.311475</td>\n",
              "    </tr>\n",
              "    <tr>\n",
              "      <th>Male</th>\n",
              "      <td>46.116129</td>\n",
              "      <td>19.066129</td>\n",
              "      <td>196.306452</td>\n",
              "      <td>3987.096774</td>\n",
              "    </tr>\n",
              "    <tr>\n",
              "      <th rowspan=\"2\" valign=\"top\">Torgersen</th>\n",
              "      <th>Female</th>\n",
              "      <td>37.554167</td>\n",
              "      <td>17.550000</td>\n",
              "      <td>188.291667</td>\n",
              "      <td>3395.833333</td>\n",
              "    </tr>\n",
              "    <tr>\n",
              "      <th>Male</th>\n",
              "      <td>40.586957</td>\n",
              "      <td>19.391304</td>\n",
              "      <td>194.913043</td>\n",
              "      <td>4034.782609</td>\n",
              "    </tr>\n",
              "  </tbody>\n",
              "</table>\n",
              "</div>"
            ],
            "text/plain": [
              "                  bill_length_mm  bill_depth_mm  flipper_length_mm  \\\n",
              "island    sex                                                        \n",
              "Biscoe    Female       43.307500      15.191250         205.687500   \n",
              "          Male         47.119277      16.597590         213.289157   \n",
              "Dream     Female       42.296721      17.601639         190.016393   \n",
              "          Male         46.116129      19.066129         196.306452   \n",
              "Torgersen Female       37.554167      17.550000         188.291667   \n",
              "          Male         40.586957      19.391304         194.913043   \n",
              "\n",
              "                  body_mass_g  \n",
              "island    sex                  \n",
              "Biscoe    Female  4319.375000  \n",
              "          Male    5104.518072  \n",
              "Dream     Female  3446.311475  \n",
              "          Male    3987.096774  \n",
              "Torgersen Female  3395.833333  \n",
              "          Male    4034.782609  "
            ]
          },
          "execution_count": 150,
          "metadata": {},
          "output_type": "execute_result"
        }
      ],
      "source": [
        "penguins.groupby(['island','sex']).mean()"
      ]
    },
    {
      "cell_type": "markdown",
      "metadata": {
        "id": "0et137PU5_dw"
      },
      "source": [
        "### Grouping and Merging"
      ]
    },
    {
      "cell_type": "markdown",
      "metadata": {
        "id": "vBhd8dXL5_dw"
      },
      "source": [
        "So, to merge our two tables, without creating duplication, we group them both by island, and then merge on this new index."
      ]
    },
    {
      "cell_type": "code",
      "execution_count": null,
      "metadata": {
        "id": "PSBEMPvk5_dw",
        "outputId": "f9e69af3-17d5-44d2-d3b7-8efa5424fc0c"
      },
      "outputs": [
        {
          "data": {
            "text/html": [
              "<div>\n",
              "<style scoped>\n",
              "    .dataframe tbody tr th:only-of-type {\n",
              "        vertical-align: middle;\n",
              "    }\n",
              "\n",
              "    .dataframe tbody tr th {\n",
              "        vertical-align: top;\n",
              "    }\n",
              "\n",
              "    .dataframe thead th {\n",
              "        text-align: right;\n",
              "    }\n",
              "</style>\n",
              "<table border=\"1\" class=\"dataframe\">\n",
              "  <thead>\n",
              "    <tr style=\"text-align: right;\">\n",
              "      <th></th>\n",
              "      <th>temp</th>\n",
              "    </tr>\n",
              "    <tr>\n",
              "      <th>island</th>\n",
              "      <th></th>\n",
              "    </tr>\n",
              "  </thead>\n",
              "  <tbody>\n",
              "    <tr>\n",
              "      <th>Anvers</th>\n",
              "      <td>-2.25</td>\n",
              "    </tr>\n",
              "    <tr>\n",
              "      <th>Biscoe</th>\n",
              "      <td>-3.50</td>\n",
              "    </tr>\n",
              "    <tr>\n",
              "      <th>Dream</th>\n",
              "      <td>-2.25</td>\n",
              "    </tr>\n",
              "    <tr>\n",
              "      <th>Torgersen</th>\n",
              "      <td>-4.50</td>\n",
              "    </tr>\n",
              "  </tbody>\n",
              "</table>\n",
              "</div>"
            ],
            "text/plain": [
              "           temp\n",
              "island         \n",
              "Anvers    -2.25\n",
              "Biscoe    -3.50\n",
              "Dream     -2.25\n",
              "Torgersen -4.50"
            ]
          },
          "execution_count": 153,
          "metadata": {},
          "output_type": "execute_result"
        }
      ],
      "source": [
        "temps_grouped = temps.groupby(['island']).mean()\n",
        "temps_grouped"
      ]
    },
    {
      "cell_type": "code",
      "execution_count": null,
      "metadata": {
        "id": "y3r8V3qr5_dw",
        "outputId": "c9a6151a-e8e3-4666-95a8-28b3fd2cb818"
      },
      "outputs": [
        {
          "data": {
            "text/html": [
              "<div>\n",
              "<style scoped>\n",
              "    .dataframe tbody tr th:only-of-type {\n",
              "        vertical-align: middle;\n",
              "    }\n",
              "\n",
              "    .dataframe tbody tr th {\n",
              "        vertical-align: top;\n",
              "    }\n",
              "\n",
              "    .dataframe thead th {\n",
              "        text-align: right;\n",
              "    }\n",
              "</style>\n",
              "<table border=\"1\" class=\"dataframe\">\n",
              "  <thead>\n",
              "    <tr style=\"text-align: right;\">\n",
              "      <th></th>\n",
              "      <th>bill_length_mm</th>\n",
              "      <th>bill_depth_mm</th>\n",
              "      <th>flipper_length_mm</th>\n",
              "      <th>body_mass_g</th>\n",
              "    </tr>\n",
              "    <tr>\n",
              "      <th>island</th>\n",
              "      <th></th>\n",
              "      <th></th>\n",
              "      <th></th>\n",
              "      <th></th>\n",
              "    </tr>\n",
              "  </thead>\n",
              "  <tbody>\n",
              "    <tr>\n",
              "      <th>Biscoe</th>\n",
              "      <td>45.257485</td>\n",
              "      <td>15.874850</td>\n",
              "      <td>209.706587</td>\n",
              "      <td>4716.017964</td>\n",
              "    </tr>\n",
              "    <tr>\n",
              "      <th>Dream</th>\n",
              "      <td>44.167742</td>\n",
              "      <td>18.344355</td>\n",
              "      <td>193.072581</td>\n",
              "      <td>3712.903226</td>\n",
              "    </tr>\n",
              "    <tr>\n",
              "      <th>Torgersen</th>\n",
              "      <td>38.950980</td>\n",
              "      <td>18.429412</td>\n",
              "      <td>191.196078</td>\n",
              "      <td>3706.372549</td>\n",
              "    </tr>\n",
              "  </tbody>\n",
              "</table>\n",
              "</div>"
            ],
            "text/plain": [
              "           bill_length_mm  bill_depth_mm  flipper_length_mm  body_mass_g\n",
              "island                                                                  \n",
              "Biscoe          45.257485      15.874850         209.706587  4716.017964\n",
              "Dream           44.167742      18.344355         193.072581  3712.903226\n",
              "Torgersen       38.950980      18.429412         191.196078  3706.372549"
            ]
          },
          "execution_count": 154,
          "metadata": {},
          "output_type": "execute_result"
        }
      ],
      "source": [
        "penguins_grouped = penguins.groupby(['island']).mean()\n",
        "penguins_grouped"
      ]
    },
    {
      "cell_type": "code",
      "execution_count": null,
      "metadata": {
        "id": "th_rLWSw5_dw",
        "outputId": "05df9663-1b44-4275-90e1-e4bae7cef0b0"
      },
      "outputs": [
        {
          "data": {
            "text/html": [
              "<div>\n",
              "<style scoped>\n",
              "    .dataframe tbody tr th:only-of-type {\n",
              "        vertical-align: middle;\n",
              "    }\n",
              "\n",
              "    .dataframe tbody tr th {\n",
              "        vertical-align: top;\n",
              "    }\n",
              "\n",
              "    .dataframe thead th {\n",
              "        text-align: right;\n",
              "    }\n",
              "</style>\n",
              "<table border=\"1\" class=\"dataframe\">\n",
              "  <thead>\n",
              "    <tr style=\"text-align: right;\">\n",
              "      <th></th>\n",
              "      <th>bill_length_mm</th>\n",
              "      <th>bill_depth_mm</th>\n",
              "      <th>flipper_length_mm</th>\n",
              "      <th>body_mass_g</th>\n",
              "      <th>temp</th>\n",
              "    </tr>\n",
              "    <tr>\n",
              "      <th>island</th>\n",
              "      <th></th>\n",
              "      <th></th>\n",
              "      <th></th>\n",
              "      <th></th>\n",
              "      <th></th>\n",
              "    </tr>\n",
              "  </thead>\n",
              "  <tbody>\n",
              "    <tr>\n",
              "      <th>Biscoe</th>\n",
              "      <td>45.257485</td>\n",
              "      <td>15.874850</td>\n",
              "      <td>209.706587</td>\n",
              "      <td>4716.017964</td>\n",
              "      <td>-3.50</td>\n",
              "    </tr>\n",
              "    <tr>\n",
              "      <th>Dream</th>\n",
              "      <td>44.167742</td>\n",
              "      <td>18.344355</td>\n",
              "      <td>193.072581</td>\n",
              "      <td>3712.903226</td>\n",
              "      <td>-2.25</td>\n",
              "    </tr>\n",
              "    <tr>\n",
              "      <th>Torgersen</th>\n",
              "      <td>38.950980</td>\n",
              "      <td>18.429412</td>\n",
              "      <td>191.196078</td>\n",
              "      <td>3706.372549</td>\n",
              "      <td>-4.50</td>\n",
              "    </tr>\n",
              "  </tbody>\n",
              "</table>\n",
              "</div>"
            ],
            "text/plain": [
              "           bill_length_mm  bill_depth_mm  flipper_length_mm  body_mass_g  temp\n",
              "island                                                                        \n",
              "Biscoe          45.257485      15.874850         209.706587  4716.017964 -3.50\n",
              "Dream           44.167742      18.344355         193.072581  3712.903226 -2.25\n",
              "Torgersen       38.950980      18.429412         191.196078  3706.372549 -4.50"
            ]
          },
          "execution_count": 155,
          "metadata": {},
          "output_type": "execute_result"
        }
      ],
      "source": [
        "penguins_grouped.merge(temps_grouped, left_index=True, right_index=True)"
      ]
    },
    {
      "cell_type": "markdown",
      "metadata": {
        "id": "2DJyfUxA5_dx"
      },
      "source": [
        "Now we can see if there's any correlation between these penguin features and the average island temperature."
      ]
    }
  ],
  "metadata": {
    "kernelspec": {
      "display_name": "Python 3",
      "language": "python",
      "name": "python3"
    },
    "language_info": {
      "codemirror_mode": {
        "name": "ipython",
        "version": 3
      },
      "file_extension": ".py",
      "mimetype": "text/x-python",
      "name": "python",
      "nbconvert_exporter": "python",
      "pygments_lexer": "ipython3",
      "version": "3.8.5"
    },
    "colab": {
      "provenance": []
    }
  },
  "nbformat": 4,
  "nbformat_minor": 0
}